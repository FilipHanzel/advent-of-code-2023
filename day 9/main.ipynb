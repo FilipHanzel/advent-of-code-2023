{
 "cells": [
  {
   "cell_type": "code",
   "execution_count": 83,
   "metadata": {},
   "outputs": [],
   "source": [
    "from copy import deepcopy\n",
    "from itertools import pairwise"
   ]
  },
  {
   "cell_type": "code",
   "execution_count": 84,
   "metadata": {},
   "outputs": [],
   "source": [
    "with open(\"input.txt\", \"rt\") as f:\n",
    "    lines = [list(map(int, line.split())) for line in f.read().strip().split(\"\\n\")]"
   ]
  },
  {
   "cell_type": "markdown",
   "metadata": {},
   "source": [
    "# Part 1"
   ]
  },
  {
   "cell_type": "code",
   "execution_count": 85,
   "metadata": {},
   "outputs": [
    {
     "data": {
      "text/plain": [
       "1992273652"
      ]
     },
     "execution_count": 85,
     "metadata": {},
     "output_type": "execute_result"
    }
   ],
   "source": [
    "s = 0\n",
    "for line in deepcopy(lines):\n",
    "    diffs = [line]\n",
    "    level = line\n",
    "    while not all(d == 0 for d in level):\n",
    "        level = [b - a for a, b in pairwise(level)]\n",
    "        diffs.insert(0, level)\n",
    "\n",
    "    inc = 0\n",
    "    for diff in diffs:\n",
    "        inc = diff[-1] + inc\n",
    "    \n",
    "    s += inc\n",
    "s"
   ]
  },
  {
   "cell_type": "markdown",
   "metadata": {},
   "source": [
    "# Part 2"
   ]
  },
  {
   "cell_type": "code",
   "execution_count": 86,
   "metadata": {},
   "outputs": [
    {
     "data": {
      "text/plain": [
       "1012"
      ]
     },
     "execution_count": 86,
     "metadata": {},
     "output_type": "execute_result"
    }
   ],
   "source": [
    "s = 0\n",
    "for line in deepcopy(lines):\n",
    "    diffs = [line]\n",
    "    level = line\n",
    "    while not all(d == 0 for d in level):\n",
    "        level = [b - a for a, b in pairwise(level)]\n",
    "        diffs.insert(0, level)\n",
    "\n",
    "    inc = 0\n",
    "    for diff in diffs:\n",
    "        inc = diff[0] - inc\n",
    "    s += inc\n",
    "s"
   ]
  }
 ],
 "metadata": {
  "kernelspec": {
   "display_name": "venv",
   "language": "python",
   "name": "python3"
  },
  "language_info": {
   "codemirror_mode": {
    "name": "ipython",
    "version": 3
   },
   "file_extension": ".py",
   "mimetype": "text/x-python",
   "name": "python",
   "nbconvert_exporter": "python",
   "pygments_lexer": "ipython3",
   "version": "3.11.5"
  }
 },
 "nbformat": 4,
 "nbformat_minor": 2
}
