{
 "cells": [
  {
   "cell_type": "code",
   "execution_count": 45,
   "metadata": {},
   "outputs": [],
   "source": [
    "import math\n",
    "import re"
   ]
  },
  {
   "cell_type": "markdown",
   "metadata": {},
   "source": [
    "# Part 1"
   ]
  },
  {
   "cell_type": "code",
   "execution_count": 46,
   "metadata": {},
   "outputs": [
    {
     "data": {
      "text/plain": [
       "505494"
      ]
     },
     "execution_count": 46,
     "metadata": {},
     "output_type": "execute_result"
    }
   ],
   "source": [
    "with open(\"input.txt\", \"rt\") as f:\n",
    "    times, distances = f.read().strip().split(\"\\n\")\n",
    "\n",
    "times = list(map(int, re.findall(\"\\d+\", times)))\n",
    "distances = list(map(int, re.findall(\"\\d+\", distances)))\n",
    "\n",
    "wins_mul = 1\n",
    "for time, distance in zip(times, distances):\n",
    "    wins = 0\n",
    "    for hold in range(time):\n",
    "        speed = hold\n",
    "        traveled = speed * (time - hold)\n",
    "        if traveled > distance:\n",
    "            wins+=1\n",
    "    wins_mul *= wins\n",
    "wins_mul"
   ]
  },
  {
   "cell_type": "markdown",
   "metadata": {},
   "source": [
    "# Part 2"
   ]
  },
  {
   "cell_type": "code",
   "execution_count": 47,
   "metadata": {},
   "outputs": [
    {
     "data": {
      "text/plain": [
       "23632299"
      ]
     },
     "execution_count": 47,
     "metadata": {},
     "output_type": "execute_result"
    }
   ],
   "source": [
    "with open(\"input.txt\", \"rt\") as f:\n",
    "    time, distance = f.read().strip().split(\"\\n\")\n",
    "\n",
    "time = int(\"\".join(re.findall(\"\\d+\", time)))\n",
    "distance = int(\"\".join(re.findall(\"\\d+\", distance)))\n",
    "\n",
    "wins = 0\n",
    "for hold in range(time):\n",
    "    speed = hold\n",
    "    traveled = speed * (time - hold)\n",
    "    if traveled > distance:\n",
    "        wins += 1\n",
    "wins"
   ]
  },
  {
   "cell_type": "markdown",
   "metadata": {},
   "source": [
    "## Solusion with quadratic function\n",
    "\n",
    "`speed * (time - hold) - distance = 0` \\\n",
    "`hold * (time - hold) - distance = 0` \\\n",
    "`-1 * hold^2 + time * hold - distance = 0`"
   ]
  },
  {
   "cell_type": "code",
   "execution_count": 48,
   "metadata": {},
   "outputs": [
    {
     "name": "stdout",
     "output_type": "stream",
     "text": [
      "23632299\n"
     ]
    }
   ],
   "source": [
    "x = hold\n",
    "a = -1\n",
    "b = time\n",
    "c = -distance\n",
    "\n",
    "# Zeros of quadratic equasion\n",
    "delta = b**2 - 4 * a * c\n",
    "p = -b - delta**0.5 / (2 * a)\n",
    "q = -b + delta**0.5 / (2 * a)\n",
    "\n",
    "# Switch to make sure p is smaller\n",
    "if p > q:\n",
    "    p, q = q, p\n",
    "\n",
    "p = math.ceil(p)\n",
    "q = math.floor(q)\n",
    "print(q - p + 1)"
   ]
  }
 ],
 "metadata": {
  "kernelspec": {
   "display_name": "venv",
   "language": "python",
   "name": "python3"
  },
  "language_info": {
   "codemirror_mode": {
    "name": "ipython",
    "version": 3
   },
   "file_extension": ".py",
   "mimetype": "text/x-python",
   "name": "python",
   "nbconvert_exporter": "python",
   "pygments_lexer": "ipython3",
   "version": "3.11.5"
  }
 },
 "nbformat": 4,
 "nbformat_minor": 2
}
