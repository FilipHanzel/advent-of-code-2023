{
 "cells": [
  {
   "cell_type": "code",
   "execution_count": 115,
   "metadata": {},
   "outputs": [],
   "source": [
    "import pprint\n",
    "import re"
   ]
  },
  {
   "cell_type": "code",
   "execution_count": 116,
   "metadata": {},
   "outputs": [],
   "source": [
    "with open(\"input.txt\", \"rt\") as f:\n",
    "    seeds, *maps = f.read().strip().split(\"\\n\\n\")\n",
    "\n",
    "seeds = list(map(int, seeds.split(\": \")[1].split()))\n",
    "\n",
    "_maps = []\n",
    "for m in maps:\n",
    "    _, *ranges = re.split(\"(?: map:)?\\n\", m)\n",
    "    _maps.append([tuple(map(int, r.split())) for r in ranges])\n",
    "maps = _maps"
   ]
  },
  {
   "cell_type": "markdown",
   "metadata": {},
   "source": [
    "Part 1"
   ]
  },
  {
   "cell_type": "code",
   "execution_count": 117,
   "metadata": {},
   "outputs": [
    {
     "data": {
      "text/plain": [
       "382895070"
      ]
     },
     "execution_count": 117,
     "metadata": {},
     "output_type": "execute_result"
    }
   ],
   "source": [
    "locations = []\n",
    "for seed in seeds:\n",
    "    num = seed\n",
    "    for map_ in maps:\n",
    "        for dst, src, length in map_:\n",
    "            if num >= src and num < src + length:\n",
    "                num += (dst - src)\n",
    "                break\n",
    "    locations.append(num)\n",
    "min(locations)\n",
    "# locs"
   ]
  },
  {
   "cell_type": "markdown",
   "metadata": {},
   "source": [
    "Part 2"
   ]
  },
  {
   "cell_type": "code",
   "execution_count": 118,
   "metadata": {},
   "outputs": [
    {
     "data": {
      "text/plain": [
       "17729182"
      ]
     },
     "execution_count": 118,
     "metadata": {},
     "output_type": "execute_result"
    }
   ],
   "source": [
    "def pairwise(iterable):\n",
    "    it = iter(iterable)\n",
    "    return zip(it, it)\n",
    "\n",
    "\n",
    "# Convert seeds and maps into ranges represented as (start, stop, increment),\n",
    "# where 'start' and 'stop' define the ends of the range (stop is exclusive),\n",
    "# and 'increment' is the value by which all elements in the range need to be adjusted\n",
    "seed_ranges = [(src, src + length, 0) for src, length in pairwise(seeds)]\n",
    "tmaps = [[(src, src + length, dst - src) for dst, src, length in m] for m in maps]\n",
    "\n",
    "# Iterate through each map transforming ranges\n",
    "ranges = seed_ranges\n",
    "ranges_to_check = ranges.copy()\n",
    "for map_ranges in tmaps:\n",
    "    overlaps = []\n",
    "\n",
    "    for m_start, m_end, m_inc in map_ranges:\n",
    "        # Iterate through each input range to check for overlaps\n",
    "        ranges_left = []\n",
    "        for r_start, r_end, r_inc in ranges_to_check:\n",
    "            # If the input range doesn't overlap with the map range, skip\n",
    "            if r_start > m_end or m_start > r_end:\n",
    "                ranges_left.append((r_start, r_end, r_inc))\n",
    "                continue\n",
    "\n",
    "            # Find overlapping range\n",
    "            o_start = max(r_start, m_start)\n",
    "            o_end = min(r_end, m_end)\n",
    "            o_inc = r_inc + m_inc\n",
    "            overlaps.append((o_start, o_end, o_inc))\n",
    "\n",
    "            # Find non-overlapping range(s)\n",
    "            if o_start > r_start:\n",
    "                ranges_left.append((r_start, o_start, r_inc))\n",
    "            if o_end < r_end:\n",
    "                ranges_left.append((o_end, r_end, r_inc))\n",
    "\n",
    "        # I'm assuming that ranges in a map itself aren't overlapping\n",
    "        # so for each range in a map, I'll check input ranges that\n",
    "        # weren't already mapped by any previous ranges in this map\n",
    "        ranges_to_check = ranges_left\n",
    "\n",
    "    # Mapped ranges should be transformed, before checking the next map\n",
    "    overlaps = [(start + inc, end + inc, 0) for start, end, inc in overlaps]\n",
    "\n",
    "    # Next map should check all ranges produced by previous map\n",
    "    # and all the ranges that weren't mapped\n",
    "    ranges_to_check = overlaps + ranges_left\n",
    "\n",
    "# If there are no more maps to go through - we have the result\n",
    "mapped_ranges = ranges_to_check\n",
    "\n",
    "min([start for start, *_ in mapped_ranges])"
   ]
  }
 ],
 "metadata": {
  "kernelspec": {
   "display_name": "venv",
   "language": "python",
   "name": "python3"
  },
  "language_info": {
   "codemirror_mode": {
    "name": "ipython",
    "version": 3
   },
   "file_extension": ".py",
   "mimetype": "text/x-python",
   "name": "python",
   "nbconvert_exporter": "python",
   "pygments_lexer": "ipython3",
   "version": "3.11.5"
  }
 },
 "nbformat": 4,
 "nbformat_minor": 2
}
