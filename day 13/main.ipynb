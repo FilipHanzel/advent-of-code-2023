{
 "cells": [
  {
   "cell_type": "code",
   "execution_count": 1,
   "metadata": {},
   "outputs": [],
   "source": [
    "from typing import Optional"
   ]
  },
  {
   "cell_type": "code",
   "execution_count": 2,
   "metadata": {},
   "outputs": [],
   "source": [
    "with open(\"input.txt\", \"rt\") as f:\n",
    "    patterns = []\n",
    "    for pattern in f.read().strip().split(\"\\n\\n\"):\n",
    "        patterns.append(pattern.split())"
   ]
  },
  {
   "cell_type": "markdown",
   "metadata": {},
   "source": [
    "# Part 1"
   ]
  },
  {
   "cell_type": "code",
   "execution_count": 3,
   "metadata": {},
   "outputs": [
    {
     "data": {
      "text/plain": [
       "31265"
      ]
     },
     "execution_count": 3,
     "metadata": {},
     "output_type": "execute_result"
    }
   ],
   "source": [
    "def get_horizontal_reflection(pattern: list[str]) -> Optional[int]:\n",
    "    n_rows = len(pattern)\n",
    "    \n",
    "    cursor = 1\n",
    "    while cursor < n_rows:\n",
    "        u_cursor = 1\n",
    "        d_cursor = 0\n",
    "\n",
    "        while True:\n",
    "            u_idx = cursor  - u_cursor\n",
    "            d_idx = cursor + d_cursor\n",
    "\n",
    "            if u_idx < 0 or d_idx >= n_rows:\n",
    "                return cursor\n",
    "            \n",
    "            if pattern[u_idx] != pattern[d_idx]:\n",
    "                break\n",
    "\n",
    "            u_cursor += 1\n",
    "            d_cursor += 1\n",
    "\n",
    "        cursor += 1\n",
    "    \n",
    "    return None\n",
    "\n",
    "\n",
    "summary = 0\n",
    "for pattern in patterns:\n",
    "    # Horizontal reflections\n",
    "    reflection_idx = get_horizontal_reflection(pattern)\n",
    "    if reflection_idx is not None:\n",
    "        summary += 100 * reflection_idx\n",
    "        continue\n",
    "    # Vertical reflections\n",
    "    pattern_t = list(map(\"\".join, zip(*pattern)))\n",
    "    reflection_idx = get_horizontal_reflection(pattern_t)\n",
    "    assert reflection_idx is not None\n",
    "    summary += reflection_idx\n",
    "summary"
   ]
  },
  {
   "cell_type": "markdown",
   "metadata": {},
   "source": [
    "# Part 2"
   ]
  },
  {
   "cell_type": "code",
   "execution_count": 4,
   "metadata": {},
   "outputs": [
    {
     "data": {
      "text/plain": [
       "39359"
      ]
     },
     "execution_count": 4,
     "metadata": {},
     "output_type": "execute_result"
    }
   ],
   "source": [
    "def get_horizontal_reflection(pattern: list[str]) -> Optional[int]:\n",
    "    n_rows = len(pattern)\n",
    "\n",
    "    cursor = 1\n",
    "    while cursor < n_rows:\n",
    "        diffs = 0\n",
    "        u_cursor = 1\n",
    "        d_cursor = 0\n",
    "\n",
    "        while True:\n",
    "            u_idx = cursor - u_cursor\n",
    "            d_idx = cursor + d_cursor\n",
    "\n",
    "            if u_idx < 0 or d_idx >= n_rows:\n",
    "                # There has to be exactily one smudge\n",
    "                if diffs != 1:\n",
    "                    break\n",
    "\n",
    "                return cursor\n",
    "\n",
    "            diffs += sum(a != b for a, b in zip(pattern[u_idx], pattern[d_idx]))\n",
    "            if diffs > 1:\n",
    "                break\n",
    "\n",
    "            u_cursor += 1\n",
    "            d_cursor += 1\n",
    "\n",
    "        cursor += 1\n",
    "\n",
    "    return None\n",
    "\n",
    "\n",
    "summary = 0\n",
    "for pattern in patterns:\n",
    "    # Horizontal reflections\n",
    "    reflection_idx = get_horizontal_reflection(pattern)\n",
    "    if reflection_idx is not None:\n",
    "        summary += 100 * reflection_idx\n",
    "        continue\n",
    "    # Vertical reflections\n",
    "    pattern_t = list(map(\"\".join, zip(*pattern)))\n",
    "    reflection_idx = get_horizontal_reflection(pattern_t)\n",
    "    assert reflection_idx is not None\n",
    "    summary += reflection_idx\n",
    "summary"
   ]
  }
 ],
 "metadata": {
  "kernelspec": {
   "display_name": "venv",
   "language": "python",
   "name": "python3"
  },
  "language_info": {
   "codemirror_mode": {
    "name": "ipython",
    "version": 3
   },
   "file_extension": ".py",
   "mimetype": "text/x-python",
   "name": "python",
   "nbconvert_exporter": "python",
   "pygments_lexer": "ipython3",
   "version": "3.11.5"
  }
 },
 "nbformat": 4,
 "nbformat_minor": 2
}
