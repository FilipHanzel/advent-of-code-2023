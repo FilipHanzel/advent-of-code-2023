{
 "cells": [
  {
   "cell_type": "code",
   "execution_count": 1,
   "metadata": {},
   "outputs": [],
   "source": [
    "import operator\n",
    "import re\n",
    "from copy import deepcopy"
   ]
  },
  {
   "cell_type": "code",
   "execution_count": 2,
   "metadata": {},
   "outputs": [],
   "source": [
    "workflows: dict[str, list] = {}\n",
    "parts: list[dict] = []\n",
    "\n",
    "with open(\"input.txt\", \"rt\") as f:\n",
    "    workflows_str, parts_str = f.read().strip().split(\"\\n\\n\")\n",
    "\n",
    "for workflow_str in workflows_str.split(\"\\n\"):\n",
    "    name, rules_str = re.match(\"(\\w+){(.+)}\", workflow_str).groups()\n",
    "    rules = []\n",
    "    for rule_str in rules_str.split(\",\"):\n",
    "        rule = re.match(\"([xmas])([<>])(\\d+):(\\w+)|(\\w+)\", rule_str).groups()\n",
    "        category, sign, value, target, default = rule\n",
    "        value = int(value) if value is not None else None\n",
    "        rules.append((category, sign, value, target, default))\n",
    "    workflows[name] = rules\n",
    "\n",
    "for part_str in parts_str.split(\"\\n\"):\n",
    "    x, m, a, s = re.match(\"\\{x=(\\d+),m=(\\d+),a=(\\d+),s=(\\d+)\\}\", part_str).groups()\n",
    "    parts.append({\"x\": int(x), \"m\": int(m), \"a\": int(a), \"s\": int(s)})\n",
    "\n",
    "sign_map = {\">\": operator.gt, \"<\": operator.lt}"
   ]
  },
  {
   "cell_type": "markdown",
   "metadata": {},
   "source": [
    "# Part 1"
   ]
  },
  {
   "cell_type": "code",
   "execution_count": 3,
   "metadata": {},
   "outputs": [
    {
     "data": {
      "text/plain": [
       "373302"
      ]
     },
     "execution_count": 3,
     "metadata": {},
     "output_type": "execute_result"
    }
   ],
   "source": [
    "accepted = []\n",
    "\n",
    "for part in parts:\n",
    "    workflow = workflows[\"in\"]\n",
    "    while True:\n",
    "        move_to = None\n",
    "\n",
    "        for rule in workflow:\n",
    "            category, sign, value, target, default = rule\n",
    "\n",
    "            if default is not None:\n",
    "                move_to = default\n",
    "            elif sign_map[sign](part[category], value):\n",
    "                move_to = target\n",
    "                break\n",
    "\n",
    "        if move_to == \"R\":\n",
    "            break\n",
    "\n",
    "        if move_to == \"A\":\n",
    "            accepted.append(part)\n",
    "            break\n",
    "\n",
    "        workflow = workflows[move_to]\n",
    "\n",
    "sum(sum(part.values()) for part in accepted)"
   ]
  },
  {
   "cell_type": "code",
   "execution_count": 4,
   "metadata": {},
   "outputs": [
    {
     "data": {
      "text/plain": [
       "130262715574114"
      ]
     },
     "execution_count": 4,
     "metadata": {},
     "output_type": "execute_result"
    }
   ],
   "source": [
    "to_check = [\n",
    "    {\n",
    "        \"x\": {\"min\": 1, \"max\": 4000},\n",
    "        \"m\": {\"min\": 1, \"max\": 4000},\n",
    "        \"a\": {\"min\": 1, \"max\": 4000},\n",
    "        \"s\": {\"min\": 1, \"max\": 4000},\n",
    "        \"move_to\": \"in\",\n",
    "    }\n",
    "]\n",
    "\n",
    "accepted_ranges = []\n",
    "\n",
    "while to_check:\n",
    "    parts_range = to_check.pop()\n",
    "\n",
    "    if parts_range[\"move_to\"] == \"R\":\n",
    "        continue\n",
    "    if parts_range[\"move_to\"] == \"A\":\n",
    "        accepted_ranges.append(parts_range)\n",
    "        continue\n",
    "\n",
    "    workflow = workflows[parts_range[\"move_to\"]]\n",
    "    for rule in workflow:\n",
    "        cat, sign, value, target, default = rule\n",
    "\n",
    "        if default is not None:\n",
    "            parts_range[\"move_to\"] = default\n",
    "            to_check.append(parts_range)\n",
    "\n",
    "        elif value >= parts_range[cat][\"min\"] and value <= parts_range[cat][\"max\"]:\n",
    "            parts_range_split = deepcopy(parts_range)\n",
    "            parts_range_split[\"move_to\"] = target\n",
    "\n",
    "            if sign == \">\":\n",
    "                parts_range_split[cat][\"min\"] = value + 1\n",
    "                parts_range[cat][\"max\"] = value\n",
    "\n",
    "            elif sign == \"<\":\n",
    "                parts_range_split[cat][\"max\"] = value - 1\n",
    "                parts_range[cat][\"min\"] = value\n",
    "\n",
    "            to_check.append(parts_range_split)\n",
    "\n",
    "n_accepted = 0\n",
    "for parts_range in accepted_ranges:\n",
    "    combinations = 1\n",
    "    for cat in \"xmas\":\n",
    "        combinations *= parts_range[cat][\"max\"] - parts_range[cat][\"min\"] + 1\n",
    "    n_accepted += combinations\n",
    "n_accepted"
   ]
  }
 ],
 "metadata": {
  "kernelspec": {
   "display_name": "venv",
   "language": "python",
   "name": "python3"
  },
  "language_info": {
   "codemirror_mode": {
    "name": "ipython",
    "version": 3
   },
   "file_extension": ".py",
   "mimetype": "text/x-python",
   "name": "python",
   "nbconvert_exporter": "python",
   "pygments_lexer": "ipython3",
   "version": "3.11.5"
  }
 },
 "nbformat": 4,
 "nbformat_minor": 2
}
