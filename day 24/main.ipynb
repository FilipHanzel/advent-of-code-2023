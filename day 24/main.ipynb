{
 "cells": [
  {
   "cell_type": "code",
   "execution_count": 1,
   "metadata": {},
   "outputs": [],
   "source": [
    "hail = []\n",
    "with open(\"input.txt\", \"rt\") as f:\n",
    "    for line in f.read().strip().split(\"\\n\"):\n",
    "        p, v = line.split(\" @ \")\n",
    "        p = list(map(int, p.split(\", \")))\n",
    "        v = list(map(int, v.split(\", \")))\n",
    "        hail.append((p, v))\n",
    "\n",
    "X = 0\n",
    "Y = 1\n",
    "Z = 2"
   ]
  },
  {
   "cell_type": "markdown",
   "metadata": {},
   "source": [
    "# Part 1"
   ]
  },
  {
   "cell_type": "code",
   "execution_count": 2,
   "metadata": {},
   "outputs": [],
   "source": [
    "from itertools import combinations\n",
    "from typing import Optional, TypeAlias"
   ]
  },
  {
   "cell_type": "code",
   "execution_count": 3,
   "metadata": {},
   "outputs": [
    {
     "data": {
      "text/plain": [
       "28266"
      ]
     },
     "execution_count": 3,
     "metadata": {},
     "output_type": "execute_result"
    }
   ],
   "source": [
    "Point: TypeAlias = tuple[int, int, int]\n",
    "Line: TypeAlias = tuple[int, int, int]\n",
    "\n",
    "\n",
    "def get_line_coefficients(p: Point, q: Point) -> tuple[int, int, int]:\n",
    "    a = p[Y] - q[Y]\n",
    "    b = q[X] - p[X]\n",
    "    c = q[X] * p[Y] - p[X] * q[Y]\n",
    "    return a, b, c\n",
    "\n",
    "\n",
    "hail_lines = []\n",
    "for crystal in hail:\n",
    "    p, v = crystal\n",
    "    q = p[X] + v[X], p[Y] + v[Y], p[Z] + v[Z]\n",
    "    hail_lines.append(get_line_coefficients(p, q))\n",
    "\n",
    "\n",
    "def get_line_intersection(a: Line, b: Line) -> Optional[Point]:\n",
    "    d = a[0] * b[1] - a[1] * b[0]\n",
    "\n",
    "    if d != 0:\n",
    "        dx = a[2] * b[1] - a[1] * b[2]\n",
    "        dy = a[0] * b[2] - a[2] * b[0]\n",
    "\n",
    "        x = dx / d\n",
    "        y = dy / d\n",
    "        return x, y\n",
    "    return None\n",
    "\n",
    "\n",
    "X_MIN = 200000000000000\n",
    "X_MAX = 400000000000000\n",
    "Y_MIN = X_MIN\n",
    "Y_MAX = X_MAX\n",
    "\n",
    "s = 0\n",
    "for (hail_a, line_a), (hail_b, line_b) in combinations(list(zip(hail, hail_lines)), 2):\n",
    "    intersection = get_line_intersection(line_a, line_b)\n",
    "\n",
    "    if intersection is not None:\n",
    "        correct_range = (\n",
    "            intersection[X] > X_MIN\n",
    "            and intersection[X] <= X_MAX\n",
    "            and intersection[Y] > Y_MIN\n",
    "            and intersection[Y] <= Y_MAX\n",
    "        )\n",
    "\n",
    "        pa, va = hail_a\n",
    "        pb, vb = hail_b\n",
    "        in_the_past = (\n",
    "            (va[X] > 0 and pa[X] >= intersection[X])\n",
    "            or (va[X] < 0 and pa[X] <= intersection[X])\n",
    "            or (va[Y] > 0 and pa[Y] >= intersection[Y])\n",
    "            or (va[Y] < 0 and pa[Y] <= intersection[Y])\n",
    "            or (vb[X] > 0 and pb[X] >= intersection[X])\n",
    "            or (vb[X] < 0 and pb[X] <= intersection[X])\n",
    "            or (vb[Y] > 0 and pb[Y] >= intersection[Y])\n",
    "            or (vb[Y] < 0 and pb[Y] <= intersection[Y])\n",
    "        )\n",
    "\n",
    "        if correct_range and not in_the_past:\n",
    "            s += 1\n",
    "s"
   ]
  },
  {
   "cell_type": "markdown",
   "metadata": {},
   "source": [
    "# Part 2\n",
    "\n",
    "`> pip install z3-solver`"
   ]
  },
  {
   "cell_type": "code",
   "execution_count": 4,
   "metadata": {},
   "outputs": [],
   "source": [
    "import z3"
   ]
  },
  {
   "cell_type": "code",
   "execution_count": 5,
   "metadata": {},
   "outputs": [
    {
     "data": {
      "text/plain": [
       "786617045860267"
      ]
     },
     "execution_count": 5,
     "metadata": {},
     "output_type": "execute_result"
    }
   ],
   "source": [
    "s = z3.Ints(\"sx sy sz\")\n",
    "vs = z3.Ints(\"vsx vsy vsz\")\n",
    "\n",
    "solver = z3.Solver()\n",
    "for i, (p, vp) in enumerate(hail):\n",
    "    ti = z3.Int(f\"t{i}\")\n",
    "    solver.add(ti > 0)\n",
    "    solver.add(s[X] + vs[X] * ti == p[X] + vp[X] * ti)\n",
    "    solver.add(s[Y] + vs[Y] * ti == p[Y] + vp[Y] * ti)\n",
    "    solver.add(s[Z] + vs[Z] * ti == p[Z] + vp[Z] * ti)\n",
    "solver.check()\n",
    "\n",
    "solver.model().evaluate(s[X] + s[Y] + s[Z]).as_long()"
   ]
  }
 ],
 "metadata": {
  "kernelspec": {
   "display_name": "venv",
   "language": "python",
   "name": "python3"
  },
  "language_info": {
   "codemirror_mode": {
    "name": "ipython",
    "version": 3
   },
   "file_extension": ".py",
   "mimetype": "text/x-python",
   "name": "python",
   "nbconvert_exporter": "python",
   "pygments_lexer": "ipython3",
   "version": "3.11.6"
  }
 },
 "nbformat": 4,
 "nbformat_minor": 2
}
