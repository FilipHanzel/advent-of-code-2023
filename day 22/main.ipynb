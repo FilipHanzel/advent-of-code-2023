{
 "cells": [
  {
   "cell_type": "code",
   "execution_count": 1,
   "metadata": {},
   "outputs": [],
   "source": [
    "from collections import defaultdict\n",
    "from copy import deepcopy\n",
    "from typing import TypeAlias"
   ]
  },
  {
   "cell_type": "code",
   "execution_count": 2,
   "metadata": {},
   "outputs": [],
   "source": [
    "X = 0\n",
    "Y = 1\n",
    "Z = 2\n",
    "\n",
    "Qube: TypeAlias = list[int, int, int]\n",
    "Brick: TypeAlias = list[Qube]\n",
    "\n",
    "bricks: list[Brick] = []\n",
    "with open(\"input.txt\", \"rt\") as f:\n",
    "    for line in f.read().strip().split(\"\\n\"):\n",
    "        p, q = line.split(\"~\")\n",
    "        p = list(map(int, p.split(\",\")))\n",
    "        q = list(map(int, q.split(\",\")))\n",
    "\n",
    "        if p == q:\n",
    "            bricks.append((list(p),))\n",
    "            continue\n",
    "\n",
    "        for dimension in (X, Y, Z):\n",
    "            if p[dimension] != q[dimension]:\n",
    "                if p[dimension] > q[dimension]:\n",
    "                    p, q = q, p\n",
    "\n",
    "                qubes = [list(p)]\n",
    "                for _ in range(q[dimension] - p[dimension]):\n",
    "                    p[dimension] += 1\n",
    "                    qubes.append(list(p))\n",
    "                bricks.append(qubes)\n",
    "                break"
   ]
  },
  {
   "cell_type": "code",
   "execution_count": 3,
   "metadata": {},
   "outputs": [],
   "source": [
    "def simulate(bricks: list[Brick], return_fall_count: bool = False, apply_update: bool = True) -> list[Brick] | int:\n",
    "    sorted_bricks = sorted(bricks, key=lambda b: b[0][Z])\n",
    "\n",
    "    fall_count = 0\n",
    "    height_map = defaultdict(lambda: 0)\n",
    "    for brick in sorted_bricks:\n",
    "        fall = float(\"inf\")\n",
    "        for qube in brick:\n",
    "            map_height = height_map[(qube[X], qube[Y])]\n",
    "            fall = min(fall, qube[Z] - map_height)\n",
    "\n",
    "        for qube in brick:\n",
    "            height_map[(qube[X], qube[Y])] = qube[Z] - fall + 1\n",
    "            if apply_update:\n",
    "                qube[Z] -= fall\n",
    "\n",
    "        if fall > 0:\n",
    "            fall_count += 1\n",
    "\n",
    "    if return_fall_count:\n",
    "        return fall_count\n",
    "    return sorted_bricks"
   ]
  },
  {
   "cell_type": "code",
   "execution_count": 4,
   "metadata": {},
   "outputs": [],
   "source": [
    "settled_bricks = simulate(deepcopy(bricks))"
   ]
  },
  {
   "cell_type": "markdown",
   "metadata": {},
   "source": [
    "# Part 1"
   ]
  },
  {
   "cell_type": "code",
   "execution_count": 5,
   "metadata": {},
   "outputs": [
    {
     "data": {
      "text/plain": [
       "522"
      ]
     },
     "execution_count": 5,
     "metadata": {},
     "output_type": "execute_result"
    }
   ],
   "source": [
    "safe = 0\n",
    "for brick_idx in range(len(settled_bricks)):\n",
    "    subset_of_bricks = [b for i, b in enumerate(settled_bricks) if i != brick_idx]\n",
    "    fall_count = simulate(subset_of_bricks, return_fall_count=True, apply_update=False)\n",
    "    if fall_count == 0:\n",
    "        safe += 1\n",
    "safe"
   ]
  },
  {
   "cell_type": "markdown",
   "metadata": {},
   "source": [
    "# Part 2"
   ]
  },
  {
   "cell_type": "code",
   "execution_count": 6,
   "metadata": {},
   "outputs": [
    {
     "data": {
      "text/plain": [
       "83519"
      ]
     },
     "execution_count": 6,
     "metadata": {},
     "output_type": "execute_result"
    }
   ],
   "source": [
    "falling = 0\n",
    "for brick_idx in range(len(settled_bricks)):\n",
    "    subset_of_bricks = [b for i, b in enumerate(settled_bricks) if i != brick_idx]\n",
    "    falling += simulate(subset_of_bricks, return_fall_count=True, apply_update=False)\n",
    "falling"
   ]
  }
 ],
 "metadata": {
  "kernelspec": {
   "display_name": "venv",
   "language": "python",
   "name": "python3"
  },
  "language_info": {
   "codemirror_mode": {
    "name": "ipython",
    "version": 3
   },
   "file_extension": ".py",
   "mimetype": "text/x-python",
   "name": "python",
   "nbconvert_exporter": "python",
   "pygments_lexer": "ipython3",
   "version": "3.11.6"
  }
 },
 "nbformat": 4,
 "nbformat_minor": 2
}
