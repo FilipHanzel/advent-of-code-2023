{
 "cells": [
  {
   "cell_type": "code",
   "execution_count": 1,
   "metadata": {},
   "outputs": [],
   "source": [
    "import functools\n",
    "import re"
   ]
  },
  {
   "cell_type": "code",
   "execution_count": 2,
   "metadata": {},
   "outputs": [],
   "source": [
    "with open(\"input.txt\", \"rt\") as f:\n",
    "    rows = []\n",
    "    for line in f.read().strip().split(\"\\n\"):\n",
    "        row, groups = line.split()\n",
    "        groups = list(map(int, groups.split(\",\")))\n",
    "        rows.append((row, groups))"
   ]
  },
  {
   "cell_type": "code",
   "execution_count": 3,
   "metadata": {},
   "outputs": [],
   "source": [
    "def count_arrangements(springs: str, groups: list[int]) -> int:\n",
    "    group_pattern = re.compile(\"^[?#]+$\")\n",
    "    n_springs = len(springs)\n",
    "\n",
    "    @functools.cache\n",
    "    def recurse(cursor: int, group_idx: int) -> int:\n",
    "        group_size = groups[group_idx]\n",
    "\n",
    "        # Check if group can be placed at springs[cursor]\n",
    "        fits = False\n",
    "        if springs[cursor] in \"?#\":\n",
    "            section = springs[cursor : cursor + group_size]\n",
    "\n",
    "            if (\n",
    "                # Check section\n",
    "                re.match(group_pattern, section) is not None\n",
    "                and len(section) == group_size\n",
    "                # Check character after section\n",
    "                and (\n",
    "                    cursor + group_size >= n_springs\n",
    "                    or springs[cursor + group_size] in \"?.\"\n",
    "                )\n",
    "                # Check character before section\n",
    "                and (cursor == 0 or springs[cursor - 1] in \"?.\")\n",
    "            ):\n",
    "                fits = True\n",
    "\n",
    "        cnt = 0\n",
    "\n",
    "        # Check arrangements for the same group on the next step,\n",
    "        # but only if we won't skip a # (invalid arrangement)\n",
    "        if cursor + 1 < n_springs and springs[cursor] != \"#\":\n",
    "            cnt += recurse(cursor + 1, group_idx)\n",
    "\n",
    "        if fits:\n",
    "            # If section fits and it's the last group to fit,\n",
    "            # it's the end of the road, add one to arrangements count\n",
    "            if group_idx + 1 == len(groups):\n",
    "                if \"#\" not in springs[cursor + group_size + 1 :]:\n",
    "                    cnt += 1\n",
    "\n",
    "            # If there are still groups to match - check them\n",
    "            elif cursor + group_size + 1 < n_springs:\n",
    "                cnt += recurse(cursor + group_size + 1, group_idx + 1)\n",
    "\n",
    "        return cnt\n",
    "\n",
    "    return recurse(0, 0)"
   ]
  },
  {
   "cell_type": "markdown",
   "metadata": {},
   "source": [
    "# Part 1"
   ]
  },
  {
   "cell_type": "code",
   "execution_count": 4,
   "metadata": {},
   "outputs": [
    {
     "data": {
      "text/plain": [
       "7169"
      ]
     },
     "execution_count": 4,
     "metadata": {},
     "output_type": "execute_result"
    }
   ],
   "source": [
    "total = 0\n",
    "for springs, groups in rows:\n",
    "    total += count_arrangements(springs, groups)\n",
    "total"
   ]
  },
  {
   "cell_type": "markdown",
   "metadata": {},
   "source": [
    "# Part 2"
   ]
  },
  {
   "cell_type": "code",
   "execution_count": 5,
   "metadata": {},
   "outputs": [
    {
     "data": {
      "text/plain": [
       "1738259948652"
      ]
     },
     "execution_count": 5,
     "metadata": {},
     "output_type": "execute_result"
    }
   ],
   "source": [
    "total = 0\n",
    "for springs, groups in rows:\n",
    "\n",
    "    springs = \"?\".join(springs for _ in range(5))\n",
    "    groups *= 5\n",
    "    \n",
    "    total += count_arrangements(springs, groups)\n",
    "total"
   ]
  }
 ],
 "metadata": {
  "kernelspec": {
   "display_name": "venv",
   "language": "python",
   "name": "python3"
  },
  "language_info": {
   "codemirror_mode": {
    "name": "ipython",
    "version": 3
   },
   "file_extension": ".py",
   "mimetype": "text/x-python",
   "name": "python",
   "nbconvert_exporter": "python",
   "pygments_lexer": "ipython3",
   "version": "3.11.5"
  }
 },
 "nbformat": 4,
 "nbformat_minor": 2
}
