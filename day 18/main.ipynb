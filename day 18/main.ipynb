{
 "cells": [
  {
   "cell_type": "code",
   "execution_count": 47,
   "metadata": {},
   "outputs": [],
   "source": [
    "import re\n",
    "from collections import namedtuple"
   ]
  },
  {
   "cell_type": "code",
   "execution_count": 48,
   "metadata": {},
   "outputs": [],
   "source": [
    "dig_plan = []\n",
    "with open(\"input.txt\", \"rt\") as f:\n",
    "    for line in f.read().strip().split(\"\\n\"):\n",
    "        direction, steps, color = re.match(\"^([UDRL]) (\\d+) \\((#[\\dabcdef]+)\\)\", line).groups()\n",
    "        dig_plan.append((direction, int(steps), color))"
   ]
  },
  {
   "cell_type": "code",
   "execution_count": 49,
   "metadata": {},
   "outputs": [],
   "source": [
    "Point = namedtuple(\"Point\", [\"x\", \"y\"])\n",
    "\n",
    "\n",
    "def up(p: Point, n: int = 1) -> Point:\n",
    "    return Point(p.x, p.y - n)\n",
    "\n",
    "\n",
    "def left(p: Point, n: int = 1) -> Point:\n",
    "    return Point(p.x - n, p.y)\n",
    "\n",
    "\n",
    "def right(p: Point, n: int = 1) -> Point:\n",
    "    return Point(p.x + n, p.y)\n",
    "\n",
    "\n",
    "def down(p: Point, n: int = 1) -> Point:\n",
    "    return Point(p.x, p.y + n)"
   ]
  },
  {
   "cell_type": "markdown",
   "metadata": {},
   "source": [
    "# Part 1"
   ]
  },
  {
   "cell_type": "code",
   "execution_count": 50,
   "metadata": {},
   "outputs": [
    {
     "data": {
      "text/plain": [
       "108909"
      ]
     },
     "execution_count": 50,
     "metadata": {},
     "output_type": "execute_result"
    }
   ],
   "source": [
    "position = Point(0, 0)\n",
    "trenches = set()\n",
    "\n",
    "for direction, steps, _ in dig_plan:\n",
    "    for _ in range(steps):\n",
    "        if direction == \"U\":\n",
    "            position = up(position)\n",
    "        elif direction == \"L\":\n",
    "            position = left(position)\n",
    "        elif direction == \"R\":\n",
    "            position = right(position)\n",
    "        elif direction == \"D\":\n",
    "            position = down(position)\n",
    "        trenches.add(position)\n",
    "\n",
    "max_outside_x = max(p[0] for p in trenches) + 1\n",
    "max_outside_y = max(p[1] for p in trenches) + 1\n",
    "min_outside_x = min(p[0] for p in trenches) + 1\n",
    "min_outside_y = min(p[1] for p in trenches) + 1\n",
    "\n",
    "# Find a position inside the trench\n",
    "\n",
    "first_inside_position = None\n",
    "to_check = [Point(max_outside_x, max_outside_y)]\n",
    "visited = set()\n",
    "while first_inside_position is None:\n",
    "    outside_position = to_check.pop()\n",
    "    visited.add(outside_position)\n",
    "    \n",
    "    for direction in (up, left, right, down):\n",
    "        one_step = direction(outside_position)\n",
    "        two_step = direction(one_step)\n",
    "\n",
    "        if one_step in trenches and two_step not in trenches:\n",
    "            first_inside_position = two_step\n",
    "            break\n",
    "\n",
    "        if (\n",
    "            one_step.x <= max_outside_x\n",
    "            and one_step.x >= min_outside_x\n",
    "            and one_step.y <= max_outside_y\n",
    "            and one_step.y >= min_outside_y\n",
    "            and one_step not in visited\n",
    "        ):\n",
    "            to_check.append(one_step)\n",
    "\n",
    "# Flood fill\n",
    "\n",
    "filled = {first_inside_position}\n",
    "to_check = [first_inside_position]\n",
    "visited = set()\n",
    "while to_check:\n",
    "    inside_position = to_check.pop()\n",
    "    visited.add(inside_position)\n",
    "\n",
    "    for direction in (up, left, right, down):\n",
    "        one_step = direction(inside_position)\n",
    "\n",
    "        if one_step not in visited and one_step not in trenches:\n",
    "            filled.add(one_step)\n",
    "            to_check.append(one_step)\n",
    "\n",
    "len(filled) + len(trenches)"
   ]
  },
  {
   "cell_type": "markdown",
   "metadata": {},
   "source": [
    "# Part 2"
   ]
  },
  {
   "cell_type": "code",
   "execution_count": 51,
   "metadata": {},
   "outputs": [
    {
     "data": {
      "text/plain": [
       "133125706867777"
      ]
     },
     "execution_count": 51,
     "metadata": {},
     "output_type": "execute_result"
    }
   ],
   "source": [
    "new_dig_plan = []\n",
    "directions_map = {\n",
    "    \"0\": \"R\",\n",
    "    \"1\": \"D\",\n",
    "    \"2\": \"L\",\n",
    "    \"3\": \"U\",\n",
    "}\n",
    "for *_, color in dig_plan:\n",
    "    direction = directions_map[color[-1]]\n",
    "    steps = int(color[1:-1], 16)\n",
    "    new_dig_plan.append((direction, steps, color))\n",
    "\n",
    "\n",
    "trenches = []\n",
    "position = Point(0, 0)\n",
    "for direction, steps, _ in new_dig_plan:\n",
    "    if direction == \"U\":\n",
    "        position = up(position, steps)\n",
    "    elif direction == \"L\":\n",
    "        position = left(position, steps)\n",
    "    elif direction == \"R\":\n",
    "        position = right(position, steps)\n",
    "    elif direction == \"D\":\n",
    "        position = down(position, steps)\n",
    "    trenches.append(position)\n",
    "\n",
    "\n",
    "def shoelace_formula(points: list[Point]) -> float:\n",
    "    area = 0.0\n",
    "    p = points[-1]\n",
    "    for q in points:\n",
    "        area += (p.x + q.x) * (p.y - q.y)\n",
    "        p = q\n",
    "    return int(abs(area / 2.0))\n",
    "\n",
    "\n",
    "shoelace_area = shoelace_formula(trenches)\n",
    "borders_left = sum(steps for direction, steps, _ in new_dig_plan if direction in \"DL\")\n",
    "\n",
    "shoelace_area + borders_left + 1"
   ]
  }
 ],
 "metadata": {
  "kernelspec": {
   "display_name": "venv",
   "language": "python",
   "name": "python3"
  },
  "language_info": {
   "codemirror_mode": {
    "name": "ipython",
    "version": 3
   },
   "file_extension": ".py",
   "mimetype": "text/x-python",
   "name": "python",
   "nbconvert_exporter": "python",
   "pygments_lexer": "ipython3",
   "version": "3.11.5"
  }
 },
 "nbformat": 4,
 "nbformat_minor": 2
}
