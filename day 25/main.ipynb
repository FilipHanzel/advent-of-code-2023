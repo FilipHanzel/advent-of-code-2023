{
 "cells": [
  {
   "cell_type": "code",
   "execution_count": 3,
   "metadata": {},
   "outputs": [],
   "source": [
    "from tqdm import tqdm\n",
    "\n",
    "import networkx as nx"
   ]
  },
  {
   "cell_type": "code",
   "execution_count": 4,
   "metadata": {},
   "outputs": [
    {
     "name": "stderr",
     "output_type": "stream",
     "text": [
      "  3%|▎         | 110/3320 [00:03<01:44, 30.58it/s]\n"
     ]
    },
    {
     "data": {
      "text/plain": [
       "554064"
      ]
     },
     "execution_count": 4,
     "metadata": {},
     "output_type": "execute_result"
    }
   ],
   "source": [
    "connections = []\n",
    "with open(\"input.txt\", \"rt\") as f:\n",
    "    for relation in f.read().strip().split(\"\\n\"):\n",
    "        a, bs = relation.split(\": \")\n",
    "        for b in bs.split(\" \"):\n",
    "            connections.append((a, b))\n",
    "\n",
    "g = nx.Graph()\n",
    "g.add_edges_from(connections, capacity=1)\n",
    "\n",
    "ans = None\n",
    "for edge in tqdm(connections):\n",
    "    cuts, components = nx.minimum_cut(g, *edge)\n",
    "    if cuts == 3 and len(components) == 2:\n",
    "        ans = len(components[0]) * len(components[1])\n",
    "        break\n",
    "ans"
   ]
  }
 ],
 "metadata": {
  "kernelspec": {
   "display_name": "venv",
   "language": "python",
   "name": "python3"
  },
  "language_info": {
   "codemirror_mode": {
    "name": "ipython",
    "version": 3
   },
   "file_extension": ".py",
   "mimetype": "text/x-python",
   "name": "python",
   "nbconvert_exporter": "python",
   "pygments_lexer": "ipython3",
   "version": "3.11.6"
  }
 },
 "nbformat": 4,
 "nbformat_minor": 2
}
