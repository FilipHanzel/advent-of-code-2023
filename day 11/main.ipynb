{
 "cells": [
  {
   "cell_type": "code",
   "execution_count": 70,
   "metadata": {},
   "outputs": [],
   "source": [
    "from itertools import combinations"
   ]
  },
  {
   "cell_type": "code",
   "execution_count": 71,
   "metadata": {},
   "outputs": [],
   "source": [
    "def manhattan(p: tuple[int, int], q: tuple[int, int]) -> int:\n",
    "    return abs(p[0] - q[0]) + abs(p[1] - q[1])"
   ]
  },
  {
   "cell_type": "markdown",
   "metadata": {},
   "source": [
    "# Part 1"
   ]
  },
  {
   "cell_type": "code",
   "execution_count": 72,
   "metadata": {},
   "outputs": [
    {
     "data": {
      "text/plain": [
       "9521550"
      ]
     },
     "execution_count": 72,
     "metadata": {},
     "output_type": "execute_result"
    }
   ],
   "source": [
    "with open(\"input.txt\", \"rt\") as f:\n",
    "    universe = f.read().strip().split(\"\\n\")\n",
    "\n",
    "# Find and expand empty rows\n",
    "\n",
    "rows_to_expand = []\n",
    "for idx, row in enumerate(universe):\n",
    "    if all(space == \".\" for space in row):\n",
    "        rows_to_expand.append(idx)\n",
    "\n",
    "empty_row = \".\" * len(row)\n",
    "\n",
    "for idx in reversed(rows_to_expand):\n",
    "    universe.insert(idx, empty_row)\n",
    "\n",
    "# Find and expand empty columns\n",
    "\n",
    "universe_t = list(zip(*universe))\n",
    "\n",
    "\n",
    "cols_to_expand = []\n",
    "for idx, col in enumerate(universe_t):\n",
    "    if all(space == \".\" for space in col):\n",
    "        cols_to_expand.append(idx)\n",
    "\n",
    "empty_col = \".\" * len(col)\n",
    "\n",
    "for idx in reversed(cols_to_expand):\n",
    "    universe_t.insert(idx, empty_col)\n",
    "\n",
    "\n",
    "universe = list(zip(*universe_t))\n",
    "\n",
    "# Find galaxies and sum up the distances\n",
    "\n",
    "galaxies = []\n",
    "for y, row in enumerate(universe):\n",
    "    for x, cell in enumerate(row):\n",
    "        if cell == \"#\":\n",
    "            galaxies.append((x, y))\n",
    "\n",
    "\n",
    "sum(manhattan(p, q) for p, q in combinations(galaxies, 2))"
   ]
  },
  {
   "cell_type": "markdown",
   "metadata": {},
   "source": [
    "# Part 2"
   ]
  },
  {
   "cell_type": "code",
   "execution_count": 74,
   "metadata": {},
   "outputs": [
    {
     "data": {
      "text/plain": [
       "298932923702"
      ]
     },
     "execution_count": 74,
     "metadata": {},
     "output_type": "execute_result"
    }
   ],
   "source": [
    "with open(\"input.txt\", \"rt\") as f:\n",
    "    universe = f.read().strip().split(\"\\n\")\n",
    "\n",
    "# Find rows to expand\n",
    "\n",
    "rows_to_expand = set()\n",
    "for idx, row in enumerate(universe):\n",
    "    if all(space == \".\" for space in row):\n",
    "        rows_to_expand.add(idx)\n",
    "\n",
    "# Find columns to expand\n",
    "\n",
    "universe_t = list(zip(*universe))\n",
    "\n",
    "cols_to_expand = set()\n",
    "for idx, col in enumerate(universe_t):\n",
    "    if all(space == \".\" for space in col):\n",
    "        cols_to_expand.add(idx)\n",
    "\n",
    "# Find galaxies and expand them\n",
    "\n",
    "expansion = 1_000_000\n",
    "galaxies = []\n",
    "\n",
    "expanded_rows = 0\n",
    "for y, row in enumerate(universe):\n",
    "    if y in rows_to_expand:\n",
    "        expanded_rows += 1\n",
    "\n",
    "    expanded_cols = 0\n",
    "    for x, cell in enumerate(row):\n",
    "        if x in cols_to_expand:\n",
    "            expanded_cols += 1\n",
    "\n",
    "        if cell == \"#\":\n",
    "            galaxies.append(\n",
    "                (\n",
    "                    x + (expanded_cols * (expansion - 1)),\n",
    "                    y + (expanded_rows * (expansion - 1)),\n",
    "                )\n",
    "            )\n",
    "\n",
    "\n",
    "sum(manhattan(p, q) for p, q in combinations(galaxies, 2))"
   ]
  }
 ],
 "metadata": {
  "kernelspec": {
   "display_name": "venv",
   "language": "python",
   "name": "python3"
  },
  "language_info": {
   "codemirror_mode": {
    "name": "ipython",
    "version": 3
   },
   "file_extension": ".py",
   "mimetype": "text/x-python",
   "name": "python",
   "nbconvert_exporter": "python",
   "pygments_lexer": "ipython3",
   "version": "3.11.5"
  }
 },
 "nbformat": 4,
 "nbformat_minor": 2
}
