{
 "cells": [
  {
   "cell_type": "code",
   "execution_count": 65,
   "metadata": {},
   "outputs": [],
   "source": [
    "import re"
   ]
  },
  {
   "cell_type": "code",
   "execution_count": 66,
   "metadata": {},
   "outputs": [],
   "source": [
    "with open(\"input.txt\", \"rt\") as f:\n",
    "    cards = []\n",
    "    for line in f.read().strip().split(\"\\n\"):\n",
    "        w, m = re.match(\"Card +\\d+: ([ \\d]*) \\| ([ \\d]*)\", line).groups()\n",
    "        w = list(map(int, w.split()))\n",
    "        m = list(map(int, m.split()))\n",
    "        cards.append((w, m))"
   ]
  },
  {
   "cell_type": "markdown",
   "metadata": {},
   "source": [
    "# Part 1"
   ]
  },
  {
   "cell_type": "code",
   "execution_count": 67,
   "metadata": {},
   "outputs": [
    {
     "data": {
      "text/plain": [
       "25174"
      ]
     },
     "execution_count": 67,
     "metadata": {},
     "output_type": "execute_result"
    }
   ],
   "source": [
    "s = 0\n",
    "for w, m in cards:\n",
    "\n",
    "    matching = -1\n",
    "    for num in w:\n",
    "        if num in m:\n",
    "            matching += 1\n",
    "\n",
    "    if matching >= 0:\n",
    "        s += 2 ** matching\n",
    "\n",
    "s"
   ]
  },
  {
   "cell_type": "markdown",
   "metadata": {},
   "source": [
    "# Part 2"
   ]
  },
  {
   "cell_type": "code",
   "execution_count": 68,
   "metadata": {},
   "outputs": [
    {
     "data": {
      "text/plain": [
       "6420979"
      ]
     },
     "execution_count": 68,
     "metadata": {},
     "output_type": "execute_result"
    }
   ],
   "source": [
    "s = 0\n",
    "\n",
    "cards_num = [1] * len(cards)\n",
    "for idx, (w, m) in enumerate(cards):\n",
    "    matching = 0\n",
    "    for num in w:\n",
    "        if num in m:\n",
    "            matching += 1\n",
    "\n",
    "    for match in range(matching):\n",
    "        if idx + match >= len(cards):\n",
    "            break\n",
    "        cards_num[idx + match + 1] += cards_num[idx]\n",
    "\n",
    "sum(cards_num)"
   ]
  }
 ],
 "metadata": {
  "kernelspec": {
   "display_name": "venv",
   "language": "python",
   "name": "python3"
  },
  "language_info": {
   "codemirror_mode": {
    "name": "ipython",
    "version": 3
   },
   "file_extension": ".py",
   "mimetype": "text/x-python",
   "name": "python",
   "nbconvert_exporter": "python",
   "pygments_lexer": "ipython3",
   "version": "3.11.5"
  }
 },
 "nbformat": 4,
 "nbformat_minor": 2
}
