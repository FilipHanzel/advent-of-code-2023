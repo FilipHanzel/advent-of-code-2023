{
 "cells": [
  {
   "cell_type": "code",
   "execution_count": null,
   "metadata": {},
   "outputs": [],
   "source": [
    "import re"
   ]
  },
  {
   "cell_type": "code",
   "execution_count": 36,
   "metadata": {},
   "outputs": [],
   "source": [
    "with open(\"input.txt\", \"rt\") as f:\n",
    "    lines = f.read().strip().split(\"\\n\")"
   ]
  },
  {
   "cell_type": "code",
   "execution_count": 37,
   "metadata": {},
   "outputs": [
    {
     "name": "stdout",
     "output_type": "stream",
     "text": [
      "3099\n"
     ]
    }
   ],
   "source": [
    "condition = {\n",
    "    \"red\": 12,\n",
    "    \"green\": 13,\n",
    "    \"blue\": 14,\n",
    "}\n",
    "\n",
    "s = 0\n",
    "for idx, line in enumerate(lines, 1):\n",
    "    line = line.split(\": \")[-1].replace(\";\", \"\").replace(\",\", \"\").split(\" \")\n",
    "\n",
    "    for n, c in zip(line[::2], line[1::2]):\n",
    "        if int(n) > condition[c]:\n",
    "            break\n",
    "    else:\n",
    "        s += int(idx)\n",
    "\n",
    "print(s)"
   ]
  },
  {
   "cell_type": "code",
   "execution_count": 38,
   "metadata": {},
   "outputs": [
    {
     "name": "stdout",
     "output_type": "stream",
     "text": [
      "72970\n"
     ]
    }
   ],
   "source": [
    "s = 0\n",
    "for idx, line in enumerate(lines, 1):\n",
    "    line = line.split(\": \")[-1].replace(\";\", \"\").replace(\",\", \"\").split(\" \")\n",
    "\n",
    "    mins = {\n",
    "        \"red\": 0,\n",
    "        \"green\": 0,\n",
    "        \"blue\": 0,\n",
    "    }\n",
    "\n",
    "    for n, c in zip(line[::2], line[1::2]):\n",
    "        if int(n) > mins[c]:\n",
    "            mins[c] = int(n)\n",
    "    \n",
    "    s += mins[\"red\"] * mins[\"green\"] * mins[\"blue\"]\n",
    "\n",
    "print(s)"
   ]
  }
 ],
 "metadata": {
  "kernelspec": {
   "display_name": "venv",
   "language": "python",
   "name": "python3"
  },
  "language_info": {
   "codemirror_mode": {
    "name": "ipython",
    "version": 3
   },
   "file_extension": ".py",
   "mimetype": "text/x-python",
   "name": "python",
   "nbconvert_exporter": "python",
   "pygments_lexer": "ipython3",
   "version": "3.11.5"
  }
 },
 "nbformat": 4,
 "nbformat_minor": 2
}
