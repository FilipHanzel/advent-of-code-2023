{
 "cells": [
  {
   "cell_type": "code",
   "execution_count": 169,
   "metadata": {},
   "outputs": [],
   "source": [
    "from collections import namedtuple"
   ]
  },
  {
   "cell_type": "code",
   "execution_count": 170,
   "metadata": {},
   "outputs": [
    {
     "name": "stdout",
     "output_type": "stream",
     "text": [
      "n_rows = 131\n",
      "n_cols = 131\n"
     ]
    }
   ],
   "source": [
    "with open(\"input.txt\", \"rt\") as f:\n",
    "    plots = f.read().strip().split(\"\\n\")\n",
    "\n",
    "n_rows = len(plots)\n",
    "n_cols = len(plots[0])\n",
    "\n",
    "print(f\"{n_rows = }\")\n",
    "print(f\"{n_cols = }\")"
   ]
  },
  {
   "cell_type": "code",
   "execution_count": 171,
   "metadata": {},
   "outputs": [],
   "source": [
    "Point = namedtuple(\"Point\", [\"x\", \"y\"])\n",
    "\n",
    "\n",
    "def up(p: Point, n: int = 1) -> Point:\n",
    "    return Point(p.x, p.y - n)\n",
    "\n",
    "\n",
    "def left(p: Point, n: int = 1) -> Point:\n",
    "    return Point(p.x - n, p.y)\n",
    "\n",
    "\n",
    "def right(p: Point, n: int = 1) -> Point:\n",
    "    return Point(p.x + n, p.y)\n",
    "\n",
    "\n",
    "def down(p: Point, n: int = 1) -> Point:\n",
    "    return Point(p.x, p.y + n)"
   ]
  },
  {
   "cell_type": "code",
   "execution_count": 172,
   "metadata": {},
   "outputs": [
    {
     "data": {
      "text/plain": [
       "Point(x=65, y=65)"
      ]
     },
     "execution_count": 172,
     "metadata": {},
     "output_type": "execute_result"
    }
   ],
   "source": [
    "start = None\n",
    "for y, row in enumerate(plots):\n",
    "    if \"S\" in row:\n",
    "        start = Point(row.index(\"S\"), y)\n",
    "start"
   ]
  },
  {
   "cell_type": "markdown",
   "metadata": {},
   "source": [
    "# Part 1"
   ]
  },
  {
   "cell_type": "code",
   "execution_count": 173,
   "metadata": {},
   "outputs": [
    {
     "data": {
      "text/plain": [
       "3762"
      ]
     },
     "execution_count": 173,
     "metadata": {},
     "output_type": "execute_result"
    }
   ],
   "source": [
    "def lookup_plot(p: Point) -> str:\n",
    "    return plots[p.y][p.x]\n",
    "\n",
    "positions = {start}\n",
    "for step in range(64):\n",
    "    next_positions = set()\n",
    "    while positions:\n",
    "        position = positions.pop()\n",
    "\n",
    "        for direction in (up, left, right, down):\n",
    "            next_position = direction(position)\n",
    "            if lookup_plot(next_position) in \".S\":\n",
    "                next_positions.add(next_position)\n",
    "\n",
    "    positions = next_positions\n",
    "\n",
    "len(positions)"
   ]
  },
  {
   "cell_type": "markdown",
   "metadata": {},
   "source": [
    "# Part 2\n",
    "\n",
    "I stole the idea from reddit. Because of empty rows in input data, the amount of final positions can be estimated for any amount of steps by interpolating quadratic equasion. There is a bunch of assmptions here, like the fact that input map has to be a square of size 131 and start is at the exact center.\n"
   ]
  },
  {
   "cell_type": "code",
   "execution_count": 174,
   "metadata": {},
   "outputs": [
    {
     "name": "stdout",
     "output_type": "stream",
     "text": [
      "get_n_of_final_positions(65) = 3868\n",
      "get_n_of_final_positions(65 + 131) = 34368\n",
      "get_n_of_final_positions(65 + 131 + 131) = 95262\n"
     ]
    }
   ],
   "source": [
    "def lookup_infinite_plot(p: Point) -> str:\n",
    "    x = p.x % n_cols\n",
    "    y = p.y % n_rows\n",
    "    return plots[y][x]\n",
    "\n",
    "def get_n_of_final_positions(steps):\n",
    "    positions = {start}\n",
    "    visited = set()\n",
    "    final_positions = 0\n",
    "\n",
    "    for step in range(steps):\n",
    "        next_positions = set()\n",
    "        while positions:\n",
    "            position = positions.pop()\n",
    "\n",
    "            for direction in (up, left, right, down):\n",
    "                next_position = direction(position)\n",
    "                if lookup_infinite_plot(next_position) in \".S\" and next_position not in visited:\n",
    "                    next_positions.add(next_position)\n",
    "                    visited.add(next_position)\n",
    "                    if (steps - step - 1) % 2 == 0:\n",
    "                        final_positions += 1\n",
    "\n",
    "        positions = next_positions\n",
    "\n",
    "    return final_positions \n",
    "\n",
    "print(f\"{get_n_of_final_positions(65) = }\")\n",
    "print(f\"{get_n_of_final_positions(65 + 131) = }\")\n",
    "print(f\"{get_n_of_final_positions(65 + 131 + 131) = }\")"
   ]
  },
  {
   "cell_type": "code",
   "execution_count": 175,
   "metadata": {},
   "outputs": [
    {
     "data": {
      "text/plain": [
       "621944727930768"
      ]
     },
     "execution_count": 175,
     "metadata": {},
     "output_type": "execute_result"
    }
   ],
   "source": [
    "def interpolate(p0: Point, p1: Point, p2: Point, x: int) -> int:\n",
    "    l0 = (x - p1.x) * (x - p2.x) / ((p0.x - p1.x) * (p0.x - p2.x))\n",
    "    l1 = (x - p0.x) * (x - p2.x) / ((p1.x - p0.x) * (p1.x - p2.x))\n",
    "    l2 = (x - p0.x) * (x - p1.x) / ((p2.x - p0.x) * (p2.x - p1.x))\n",
    "\n",
    "    y = p0.y * l0 + p1.y * l1 + p2.y * l2\n",
    "\n",
    "    assert y == int(y)\n",
    "\n",
    "    return int(y)\n",
    "\n",
    "\n",
    "x0 = 65\n",
    "x1 = 65 + 131\n",
    "x2 = 65 + 131 + 131\n",
    "\n",
    "p0 = Point(x0, get_n_of_final_positions(x0))\n",
    "p1 = Point(x1, get_n_of_final_positions(x1))\n",
    "p2 = Point(x2, get_n_of_final_positions(x2))\n",
    "\n",
    "interpolate(p0, p1, p2, 26501365)"
   ]
  }
 ],
 "metadata": {
  "kernelspec": {
   "display_name": "venv",
   "language": "python",
   "name": "python3"
  },
  "language_info": {
   "codemirror_mode": {
    "name": "ipython",
    "version": 3
   },
   "file_extension": ".py",
   "mimetype": "text/x-python",
   "name": "python",
   "nbconvert_exporter": "python",
   "pygments_lexer": "ipython3",
   "version": "3.11.6"
  }
 },
 "nbformat": 4,
 "nbformat_minor": 2
}
