{
 "cells": [
  {
   "cell_type": "code",
   "execution_count": 140,
   "metadata": {},
   "outputs": [],
   "source": [
    "from collections import Counter\n",
    "from itertools import combinations_with_replacement"
   ]
  },
  {
   "cell_type": "code",
   "execution_count": 141,
   "metadata": {},
   "outputs": [],
   "source": [
    "lines = []\n",
    "with open(\"input.txt\", \"rt\") as f:\n",
    "    for line in f.read().strip().split(\"\\n\"):\n",
    "        cards, bid = line.split()\n",
    "        lines.append((cards, int(bid)))"
   ]
  },
  {
   "cell_type": "markdown",
   "metadata": {},
   "source": [
    "# Part 1"
   ]
  },
  {
   "cell_type": "code",
   "execution_count": 142,
   "metadata": {},
   "outputs": [
    {
     "data": {
      "text/plain": [
       "248812215"
      ]
     },
     "execution_count": 142,
     "metadata": {},
     "output_type": "execute_result"
    }
   ],
   "source": [
    "cards = \"AKQJT98765432\"\n",
    "cards_strength = dict(zip(cards, range(len(cards), 0, -1)))\n",
    "\n",
    "ranked = []\n",
    "for hand, bid in lines:\n",
    "    counter = Counter(hand)\n",
    "    most_common_count = [count for _, count in counter.most_common()]\n",
    "\n",
    "    if len(counter) == 1:\n",
    "        tier = 6  # five of a kind\n",
    "    elif len(counter) == 2 and most_common_count[0] == 4:\n",
    "        tier = 5  # four of a kind\n",
    "    elif len(counter) == 2 and most_common_count[0] == 3:\n",
    "        tier = 4  # full house\n",
    "    elif len(counter) == 3 and most_common_count[0] == 3:\n",
    "        tier = 3  # three of a kind\n",
    "    elif len(counter) == 3 and most_common_count[0] == 2 and most_common_count[1] == 2:  # fmt: skip\n",
    "        tier = 2  # two pair\n",
    "    elif len(counter) == 4:\n",
    "        tier = 1  # one pair\n",
    "    else:\n",
    "        tier = 0\n",
    "\n",
    "    hand_strength = [cards_strength[c] for c in hand]\n",
    "\n",
    "    ranked.append((hand, bid, tier, hand_strength))\n",
    "\n",
    "ranked = sorted(ranked, key=lambda x: (x[2], x[3]))\n",
    "\n",
    "sum(rank * bid for rank, (_, bid, *_) in enumerate(ranked, start=1))"
   ]
  },
  {
   "cell_type": "markdown",
   "metadata": {},
   "source": [
    "# Part 2"
   ]
  },
  {
   "cell_type": "code",
   "execution_count": 143,
   "metadata": {},
   "outputs": [
    {
     "data": {
      "text/plain": [
       "250057090"
      ]
     },
     "execution_count": 143,
     "metadata": {},
     "output_type": "execute_result"
    }
   ],
   "source": [
    "cards = \"AKQT98765432J\"\n",
    "cards_strength = dict(zip(cards, range(len(cards), 0, -1)))\n",
    "cards_without_j = cards.replace(\"J\", \"\")\n",
    "\n",
    "ranked = []\n",
    "for hand, bid in lines:\n",
    "    j_hands = [hand]\n",
    "\n",
    "    if \"J\" in hand:\n",
    "        j_combinations = combinations_with_replacement(cards_without_j, hand.count(\"J\"))\n",
    "        for combination in j_combinations:\n",
    "            j_hand = hand\n",
    "            for c in combination:\n",
    "                j_hand = j_hand.replace(\"J\", c, 1)\n",
    "            j_hands.append(j_hand)\n",
    "\n",
    "    tier_max = 0\n",
    "    for j_hand in j_hands:\n",
    "        counter = Counter(j_hand)\n",
    "        most_common_count = [count for _, count in counter.most_common()]\n",
    "\n",
    "        if len(counter) == 1:\n",
    "            tier = 6  # five of a kind\n",
    "        elif len(counter) == 2 and most_common_count[0] == 4:\n",
    "            tier = 5  # four of a kind\n",
    "        elif len(counter) == 2 and most_common_count[0] == 3:\n",
    "            tier = 4  # full house\n",
    "        elif len(counter) == 3 and most_common_count[0] == 3:\n",
    "            tier = 3  # three of a kind\n",
    "        elif len(counter) == 3 and most_common_count[0] == 2 and most_common_count[1] == 2:  # fmt: skip\n",
    "            tier = 2  # two pair\n",
    "        elif len(counter) == 4:\n",
    "            tier = 1  # one pair\n",
    "        else:\n",
    "            tier = 0\n",
    "\n",
    "        tier_max = max(tier_max, tier)\n",
    "\n",
    "    hand_strength = [cards_strength[c] for c in hand]\n",
    "\n",
    "    ranked.append((hand, bid, tier_max, hand_strength))\n",
    "\n",
    "ranked = sorted(ranked, key=lambda x: (x[2], x[3]))\n",
    "\n",
    "sum(rank * bid for rank, (_, bid, *_) in enumerate(ranked, start=1))"
   ]
  }
 ],
 "metadata": {
  "kernelspec": {
   "display_name": "venv",
   "language": "python",
   "name": "python3"
  },
  "language_info": {
   "codemirror_mode": {
    "name": "ipython",
    "version": 3
   },
   "file_extension": ".py",
   "mimetype": "text/x-python",
   "name": "python",
   "nbconvert_exporter": "python",
   "pygments_lexer": "ipython3",
   "version": "3.11.5"
  }
 },
 "nbformat": 4,
 "nbformat_minor": 2
}
