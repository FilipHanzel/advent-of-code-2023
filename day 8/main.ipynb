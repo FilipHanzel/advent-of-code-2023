{
 "cells": [
  {
   "cell_type": "code",
   "execution_count": 35,
   "metadata": {},
   "outputs": [],
   "source": [
    "import math\n",
    "from pprint import pprint"
   ]
  },
  {
   "cell_type": "code",
   "execution_count": 36,
   "metadata": {},
   "outputs": [],
   "source": [
    "with open(\"input.txt\", \"rt\") as f:\n",
    "    instructions, _nodes = f.read().strip().split(\"\\n\\n\")\n",
    "    nodes = {}\n",
    "    for node in _nodes.split(\"\\n\"):\n",
    "        from_, to = node.split(\" = \")\n",
    "        to = to.strip(\"()\").split(\", \")\n",
    "        nodes[from_] = to"
   ]
  },
  {
   "cell_type": "markdown",
   "metadata": {},
   "source": [
    "Part 1"
   ]
  },
  {
   "cell_type": "code",
   "execution_count": 37,
   "metadata": {},
   "outputs": [],
   "source": [
    "def infinite(iterator):\n",
    "    while True:\n",
    "        for e in iterator:\n",
    "            yield e"
   ]
  },
  {
   "cell_type": "code",
   "execution_count": 42,
   "metadata": {},
   "outputs": [
    {
     "name": "stdout",
     "output_type": "stream",
     "text": [
      "14257\n"
     ]
    }
   ],
   "source": [
    "current_position = \"AAA\"\n",
    "for step, next_instruction in enumerate(infinite(instructions), start=1):\n",
    "    if next_instruction == \"R\":\n",
    "        current_position = nodes[current_position][1]\n",
    "    elif next_instruction == \"L\":\n",
    "        current_position = nodes[current_position][0]\n",
    "    \n",
    "    if current_position == \"ZZZ\":\n",
    "        break\n",
    "\n",
    "print(step)"
   ]
  },
  {
   "cell_type": "markdown",
   "metadata": {},
   "source": [
    "Part 2\n",
    "  \n",
    "I'm assuming that every path will create a loop eventually.  \n",
    "It's possible that the path from start node to first z node  \n",
    "isn't part of the loop, so I need to keep track of that separately:  \n",
    "<code>\n",
    "  ┌─────┐  \n",
    "  │start├────┐  \n",
    "  └─────┘    │  \n",
    "         ┌───▼────────┐  \n",
    "         │first z node│  \n",
    "         └──▲───────┬─┘  \n",
    "            └───────┘  \n",
    "</code>\n",
    "In order to detect a loop I can check if we came back to the first z node  \n",
    "on the same instruction index, since it is possible that we visit the same  \n",
    "z node twice:  \n",
    "<code>\n",
    "  ┌─────┐  \n",
    "  │start├────┐  \n",
    "  └─────┘    │  \n",
    "         ┌───▼────────┐  ┌────────────┐  \n",
    "         │first z node├──►first z node│  \n",
    "         └───────▲────┘  └──┬─────────┘  \n",
    "                 │          │  \n",
    "                 └──────────┘  \n",
    "</code>\n",
    "It is possible that on one path there are multiple z nodes:  \n",
    "<code>\n",
    "  ┌─────┐  \n",
    "  │start├────┐  \n",
    "  └─────┘    │  \n",
    "         ┌───▼────────┐  ┌────────────┐  \n",
    "         │first z node├──►first z node│  \n",
    "         └───────▲────┘  └──────┬─────┘  \n",
    "                 │              │  \n",
    "                 │          ┌───▼──┐  \n",
    "                 └───...────┤z node│  \n",
    "                            └──────┘  \n",
    "</code>\n",
    "I need to keep track of how many steps it takes to get to each z node from the  \n",
    "start of the loop. With that I'll be able to quickly check if path is in z node  \n",
    "for any given step.  \n"
   ]
  },
  {
   "cell_type": "code",
   "execution_count": 39,
   "metadata": {},
   "outputs": [],
   "source": [
    "def infinite_enumerate(iterator):\n",
    "    while True:\n",
    "        for e in enumerate(iterator):\n",
    "            yield e"
   ]
  },
  {
   "cell_type": "code",
   "execution_count": 40,
   "metadata": {},
   "outputs": [
    {
     "name": "stdout",
     "output_type": "stream",
     "text": [
      "[{'current': 'DXZ',\n",
      "  'first_z': {'instruction_index': 268, 'node': 'DXZ', 'step': 21251},\n",
      "  'start': 'LTA',\n",
      "  'z_loop': [0, 21251]},\n",
      " {'current': 'KHZ',\n",
      "  'first_z': {'instruction_index': 268, 'node': 'KHZ', 'step': 15871},\n",
      "  'start': 'TTA',\n",
      "  'z_loop': [0, 15871]},\n",
      " {'current': 'HRZ',\n",
      "  'first_z': {'instruction_index': 268, 'node': 'HRZ', 'step': 19099},\n",
      "  'start': 'NJA',\n",
      "  'z_loop': [0, 19099]},\n",
      " {'current': 'HSZ',\n",
      "  'first_z': {'instruction_index': 268, 'node': 'HSZ', 'step': 12643},\n",
      "  'start': 'BGA',\n",
      "  'z_loop': [0, 12643]},\n",
      " {'current': 'ZZZ',\n",
      "  'first_z': {'instruction_index': 268, 'node': 'ZZZ', 'step': 14257},\n",
      "  'start': 'AAA',\n",
      "  'z_loop': [0, 14257]},\n",
      " {'current': 'KRZ',\n",
      "  'first_z': {'instruction_index': 268, 'node': 'KRZ', 'step': 19637},\n",
      "  'start': 'KJA',\n",
      "  'z_loop': [0, 19637]}]\n"
     ]
    }
   ],
   "source": [
    "a_nodes = set(from_ for from_ in nodes.keys() if from_.endswith(\"A\"))\n",
    "z_nodes = set(from_ for from_ in nodes.keys() if from_.endswith(\"Z\"))\n",
    "\n",
    "positions = [\n",
    "    {\n",
    "        \"start\": node,\n",
    "        \"current\": node,\n",
    "        \"first_z\": {\n",
    "            \"node\": None,\n",
    "            \"instruction_index\": None,\n",
    "            \"step\": None,\n",
    "        },\n",
    "        \"z_loop\": [0],\n",
    "    }\n",
    "    for node in a_nodes\n",
    "]\n",
    "for position in positions:\n",
    "    for step, (instruction_index, next_instruction) in enumerate(infinite_enumerate(instructions), start=1):  # fmt: skip\n",
    "        \n",
    "        if next_instruction == \"R\":\n",
    "            position[\"current\"] = nodes[position[\"current\"]][1]\n",
    "        elif next_instruction == \"L\":\n",
    "            position[\"current\"] = nodes[position[\"current\"]][0]\n",
    "\n",
    "        if position[\"current\"].endswith(\"Z\"):\n",
    "            if position[\"first_z\"][\"node\"] is None:\n",
    "                position[\"first_z\"][\"node\"] = position[\"current\"]\n",
    "                position[\"first_z\"][\"instruction_index\"] = instruction_index\n",
    "                position[\"first_z\"][\"step\"] = step\n",
    "            else:\n",
    "                step -= position[\"first_z\"][\"step\"]\n",
    "                position[\"z_loop\"].append(step)\n",
    "                if instruction_index == position[\"first_z\"][\"instruction_index\"] and position[\"first_z\"][\"node\"] == position[\"current\"]:\n",
    "                    break\n",
    "\n",
    "pprint(positions)"
   ]
  },
  {
   "cell_type": "markdown",
   "metadata": {},
   "source": [
    "Shortcut\n",
    "\n",
    "Edge cases I was worried about aren't here, so I can check lowest common multiple and call it a day."
   ]
  },
  {
   "cell_type": "code",
   "execution_count": 41,
   "metadata": {},
   "outputs": [
    {
     "data": {
      "text/plain": [
       "16187743689077"
      ]
     },
     "execution_count": 41,
     "metadata": {},
     "output_type": "execute_result"
    }
   ],
   "source": [
    "math.lcm(*(p[\"z_loop\"][-1] for p in positions))"
   ]
  },
  {
   "cell_type": "markdown",
   "metadata": {},
   "source": [
    "Bonus\n",
    "\n",
    "How to check if we are in z node for any given step on the looped path.  \n",
    "Tested on last example in the puzzle."
   ]
  },
  {
   "cell_type": "code",
   "execution_count": 34,
   "metadata": {},
   "outputs": [
    {
     "name": "stdout",
     "output_type": "stream",
     "text": [
      "s = 1\n",
      "is_in_z(position, s) = False\n",
      "is_in_z(position, s) = False\n",
      "s = 2\n",
      "is_in_z(position, s) = True\n",
      "is_in_z(position, s) = False\n",
      "s = 3\n",
      "is_in_z(position, s) = False\n",
      "is_in_z(position, s) = True\n",
      "s = 4\n",
      "is_in_z(position, s) = True\n",
      "is_in_z(position, s) = False\n",
      "s = 5\n",
      "is_in_z(position, s) = False\n",
      "is_in_z(position, s) = False\n",
      "s = 6\n",
      "is_in_z(position, s) = True\n",
      "is_in_z(position, s) = True\n",
      "s = 7\n",
      "is_in_z(position, s) = False\n",
      "is_in_z(position, s) = False\n",
      "s = 8\n",
      "is_in_z(position, s) = True\n",
      "is_in_z(position, s) = False\n",
      "s = 9\n",
      "is_in_z(position, s) = False\n",
      "is_in_z(position, s) = True\n",
      "\n"
     ]
    }
   ],
   "source": [
    "def is_in_z(position: dict, step: int) -> bool:\n",
    "    if step < position[\"first_z\"][\"step\"]:\n",
    "        return False\n",
    "\n",
    "    step -= position[\"first_z\"][\"step\"]\n",
    "\n",
    "    for z_step in position[\"z_loop\"][1:]:\n",
    "        if step % z_step == 0:\n",
    "            return True\n",
    "    return False\n",
    "\n",
    "\n",
    "for s in range(1, 10):\n",
    "    print(f\"{s = }\")\n",
    "    for position in positions:\n",
    "        print(f\"{is_in_z(position, s) = }\")\n",
    "print()"
   ]
  }
 ],
 "metadata": {
  "kernelspec": {
   "display_name": "venv",
   "language": "python",
   "name": "python3"
  },
  "language_info": {
   "codemirror_mode": {
    "name": "ipython",
    "version": 3
   },
   "file_extension": ".py",
   "mimetype": "text/x-python",
   "name": "python",
   "nbconvert_exporter": "python",
   "pygments_lexer": "ipython3",
   "version": "3.11.5"
  }
 },
 "nbformat": 4,
 "nbformat_minor": 2
}
