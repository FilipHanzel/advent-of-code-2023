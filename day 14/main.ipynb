{
 "cells": [
  {
   "cell_type": "code",
   "execution_count": 1,
   "metadata": {},
   "outputs": [],
   "source": [
    "from dataclasses import dataclass"
   ]
  },
  {
   "cell_type": "code",
   "execution_count": 2,
   "metadata": {},
   "outputs": [],
   "source": [
    "with open(\"input.txt\", \"rt\") as f:\n",
    "    platform = f.read().strip().split(\"\\n\")"
   ]
  },
  {
   "cell_type": "markdown",
   "metadata": {},
   "source": [
    "# Part 1"
   ]
  },
  {
   "cell_type": "code",
   "execution_count": 3,
   "metadata": {},
   "outputs": [
    {
     "data": {
      "text/plain": [
       "113078"
      ]
     },
     "execution_count": 3,
     "metadata": {},
     "output_type": "execute_result"
    }
   ],
   "source": [
    "platform_t = list(map(list, zip(*platform)))\n",
    "n_rows = len(platform)\n",
    "\n",
    "# Roll north\n",
    "for col in platform_t:\n",
    "    cursor = 1\n",
    "    while cursor < n_rows:\n",
    "        if cursor > 0 and col[cursor] == \"O\" and col[cursor - 1] == \".\":\n",
    "            col[cursor], col[cursor - 1] = \".\", \"O\"\n",
    "            cursor -= 1\n",
    "        else:\n",
    "            cursor += 1\n",
    "\n",
    "# Calculate total load\n",
    "load = 0\n",
    "for col in platform_t:\n",
    "    for y, cell in enumerate(col):\n",
    "        if cell == \"O\":\n",
    "            load += n_rows - y \n",
    "load"
   ]
  },
  {
   "cell_type": "markdown",
   "metadata": {},
   "source": [
    "# Part 2\n",
    "\n",
    "The idea is that at some point there will be a cycle of rock positions, so if we can reach that cycle, we can calculate load after nth platform spin cycle. I also assume that the length of a cycle of rock positions is much smaller than 1_000_000_000 and that it starts early."
   ]
  },
  {
   "cell_type": "code",
   "execution_count": 4,
   "metadata": {},
   "outputs": [
    {
     "data": {
      "text/plain": [
       "94255"
      ]
     },
     "execution_count": 4,
     "metadata": {},
     "output_type": "execute_result"
    }
   ],
   "source": [
    "@dataclass\n",
    "class Cell:\n",
    "    value: str\n",
    "\n",
    "# Using cell objects allows to create \"views\", if I change a value of a cell\n",
    "# in one view, it also is changes in the other one (makes spinning the platform easier)\n",
    "platform_view = [[Cell(value) for value in row] for row in platform]\n",
    "platform_view_t = list(map(list, zip(*platform_view)))\n",
    "\n",
    "loads = []\n",
    "visited = []\n",
    "\n",
    "while True:\n",
    "\n",
    "    # Platform spin cycle\n",
    "    \n",
    "    for direction in (\"n\", \"w\", \"s\", \"e\"):\n",
    "        view = platform_view if direction in (\"w\", \"e\") else platform_view_t\n",
    "\n",
    "        for col in view:\n",
    "            if direction in (\"e\", \"s\"):\n",
    "                col = list(reversed(col))\n",
    "\n",
    "            cursor = 1\n",
    "            while cursor < n_rows:\n",
    "                if cursor > 0 and col[cursor].value == \"O\" and col[cursor - 1].value == \".\":\n",
    "                    col[cursor].value, col[cursor - 1].value = \".\", \"O\"\n",
    "                    cursor -= 1\n",
    "                else:\n",
    "                    cursor += 1\n",
    "\n",
    "    # Calcualte and store load\n",
    "\n",
    "    load = 0\n",
    "    for col in platform_view_t:\n",
    "        for y, cell in enumerate(col):\n",
    "            if cell.value == \"O\":\n",
    "                load += n_rows - y\n",
    "    loads.append(load)\n",
    "\n",
    "    # Check if rocks were in this position previously (we hit a cycle of rock positions)\n",
    "\n",
    "    platform_str = \"\".join(cell.value for row in platform_view for cell in row)\n",
    "    if platform_str in visited:\n",
    "        cycle_start = visited.index(platform_str)\n",
    "        cycle_length = len(visited) - cycle_start\n",
    "        break\n",
    "    visited.append(platform_str)\n",
    "\n",
    "# Lookup load after bilion spin cycles\n",
    "load_idx = (1_000_000_000 - cycle_start) % cycle_length + cycle_start - 1\n",
    "loads[load_idx]"
   ]
  }
 ],
 "metadata": {
  "kernelspec": {
   "display_name": "venv",
   "language": "python",
   "name": "python3"
  },
  "language_info": {
   "codemirror_mode": {
    "name": "ipython",
    "version": 3
   },
   "file_extension": ".py",
   "mimetype": "text/x-python",
   "name": "python",
   "nbconvert_exporter": "python",
   "pygments_lexer": "ipython3",
   "version": "3.11.5"
  }
 },
 "nbformat": 4,
 "nbformat_minor": 2
}
