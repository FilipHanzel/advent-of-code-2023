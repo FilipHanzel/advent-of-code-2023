{
 "cells": [
  {
   "cell_type": "code",
   "execution_count": 1,
   "metadata": {},
   "outputs": [],
   "source": [
    "# with open(\"input.txt\", \"rt\") as f:\n",
    "#     map_ = []\n",
    "#     for row in f.read().strip().split(\"\\n\"):\n",
    "#         map_.append(\".\" + row + \".\")\n",
    "#     map_.insert(0, \".\" * len(map_[0]))\n",
    "#     map_.append(\".\" * len(map_[0]))"
   ]
  },
  {
   "cell_type": "code",
   "execution_count": 2,
   "metadata": {},
   "outputs": [],
   "source": [
    "from collections import namedtuple"
   ]
  },
  {
   "cell_type": "code",
   "execution_count": 3,
   "metadata": {},
   "outputs": [
    {
     "name": "stdout",
     "output_type": "stream",
     "text": [
      "start = Point(x=18, y=36)\n",
      "lookup_sketch(start) = 'S'\n",
      "t = '7'\n",
      "l = '.'\n",
      "r = '|'\n",
      "b = 'J'\n",
      "lookup_sketch(start) = '|'\n"
     ]
    }
   ],
   "source": [
    "with open(\"input.txt\", \"rt\") as f:\n",
    "    sketch = f.read().strip().split(\"\\n\")\n",
    "sketch = [f\".{row}.\" for row in sketch]\n",
    "\n",
    "n_rows = len(sketch)\n",
    "n_cols = len(sketch[0])\n",
    "\n",
    "padding_row = \".\" * n_cols\n",
    "sketch.insert(0, padding_row)\n",
    "sketch.append(padding_row)\n",
    "\n",
    "# Point def and lookup helpers\n",
    "\n",
    "Point = namedtuple(\"Point\", [\"x\", \"y\"])\n",
    "\n",
    "\n",
    "def top(p: Point) -> Point:\n",
    "    return Point(p.x, p.y - 1)\n",
    "\n",
    "\n",
    "def left(p: Point) -> Point:\n",
    "    return Point(p.x - 1, p.y)\n",
    "\n",
    "\n",
    "def right(p: Point) -> Point:\n",
    "    return Point(p.x + 1, p.y)\n",
    "\n",
    "\n",
    "def bottom(p: Point) -> Point:\n",
    "    return Point(p.x, p.y + 1)\n",
    "\n",
    "\n",
    "def lookup_sketch(p: Point) -> str:\n",
    "    return sketch[p.y][p.x]\n",
    "\n",
    "\n",
    "# Find starting point\n",
    "\n",
    "start: Point = None\n",
    "for y, row in enumerate(sketch):\n",
    "    if \"S\" in row:\n",
    "        x = row.index(\"S\")\n",
    "        start = Point(x, y)\n",
    "\n",
    "# Replace it in the sketch with appropriate pipe element (required for part 2)\n",
    "\n",
    "print(f\"{start = }\")\n",
    "print(f\"{lookup_sketch(start) = }\")\n",
    "\n",
    "t = lookup_sketch(top(start))\n",
    "l = lookup_sketch(left(start))\n",
    "r = lookup_sketch(right(start))\n",
    "b = lookup_sketch(bottom(start))\n",
    "\n",
    "print(f\"{t = }\")\n",
    "print(f\"{l = }\")\n",
    "print(f\"{r = }\")\n",
    "print(f\"{b = }\")\n",
    "\n",
    "replacements = set(\"7FJL-|\")\n",
    "\n",
    "if t in \"7|F\":\n",
    "    replacements.discard(\"F\")\n",
    "    replacements.discard(\"-\")\n",
    "    replacements.discard(\"7\")\n",
    "if l in \"L-F\":\n",
    "    replacements.discard(\"F\")\n",
    "    replacements.discard(\"|\")\n",
    "    replacements.discard(\"L\")\n",
    "if r in \"J-7\":\n",
    "    replacements.discard(\"7\")\n",
    "    replacements.discard(\"|\")\n",
    "    replacements.discard(\"J\")\n",
    "if b in \"J|L\":\n",
    "    replacements.discard(\"J\")\n",
    "    replacements.discard(\"-\")\n",
    "    replacements.discard(\"L\")\n",
    "\n",
    "assert len(replacements) == 1\n",
    "\n",
    "sketch[start.y] = sketch[start.y].replace(\"S\", replacements.pop())\n",
    "print(f\"{lookup_sketch(start) = }\")"
   ]
  },
  {
   "cell_type": "markdown",
   "metadata": {},
   "source": [
    "# Part 1"
   ]
  },
  {
   "cell_type": "code",
   "execution_count": 4,
   "metadata": {},
   "outputs": [
    {
     "data": {
      "text/plain": [
       "6897"
      ]
     },
     "execution_count": 4,
     "metadata": {},
     "output_type": "execute_result"
    }
   ],
   "source": [
    "t = lookup_sketch(top(start))\n",
    "l = lookup_sketch(left(start))\n",
    "r = lookup_sketch(right(start))\n",
    "b = lookup_sketch(bottom(start))\n",
    "\n",
    "# Find a point we can go to from start\n",
    "\n",
    "if t in \"7|F\":\n",
    "    current_point = top(start)\n",
    "    direction = \"t\"\n",
    "elif l in \"L-F\":\n",
    "    current_point = left(start)\n",
    "    direction = \"l\"\n",
    "elif r in \"J-7\":\n",
    "    current_point = right(start)\n",
    "    direction = \"r\"\n",
    "elif b in \"J|L\":\n",
    "    current_point = bottom(start)\n",
    "    direction = \"b\"\n",
    "else:\n",
    "    raise Exception()\n",
    "\n",
    "# Look for next points until loop is closed\n",
    "\n",
    "loop = [start]\n",
    "while current_point != start:\n",
    "    loop.append(current_point)\n",
    "\n",
    "    # Go next\n",
    "\n",
    "    char = lookup_sketch(current_point)\n",
    "\n",
    "    if direction == \"t\":\n",
    "        if char == \"7\":\n",
    "            current_point, direction = left(current_point), \"l\"\n",
    "        elif char == \"|\":\n",
    "            current_point, direction = top(current_point), \"t\"\n",
    "        elif char == \"F\":\n",
    "            current_point, direction = right(current_point), \"r\"\n",
    "        else:\n",
    "            raise Exception()\n",
    "    \n",
    "    elif direction == \"l\":\n",
    "        if char == \"L\":\n",
    "            current_point, direction  = top(current_point), \"t\"\n",
    "        elif char == \"-\":\n",
    "            current_point, direction  = left(current_point), \"l\"\n",
    "        elif char == \"F\":\n",
    "            current_point, direction  = bottom(current_point), \"b\"\n",
    "        else:\n",
    "            raise Exception()\n",
    "    \n",
    "    elif direction == \"r\":\n",
    "        if char == \"J\":\n",
    "            current_point, direction  = top(current_point), \"t\"\n",
    "        elif char == \"-\":\n",
    "            current_point, direction  = right(current_point), \"r\"\n",
    "        elif char == \"7\":\n",
    "            current_point, direction  = bottom(current_point), \"b\"\n",
    "        else:\n",
    "            raise Exception()\n",
    "    \n",
    "    elif direction == \"b\":\n",
    "        if char == \"J\":\n",
    "            current_point, direction  = left(current_point), \"l\"\n",
    "        elif char == \"|\":\n",
    "            current_point, direction  = bottom(current_point), \"b\"\n",
    "        elif char == \"L\":\n",
    "            current_point, direction  = right(current_point), \"r\"\n",
    "\n",
    "    else:\n",
    "        raise Exception()\n",
    "\n",
    "len(loop) // 2"
   ]
  },
  {
   "cell_type": "markdown",
   "metadata": {},
   "source": [
    "# Part 2"
   ]
  },
  {
   "cell_type": "code",
   "execution_count": 5,
   "metadata": {},
   "outputs": [
    {
     "data": {
      "text/plain": [
       "{Point(x=0, y=0)}"
      ]
     },
     "execution_count": 5,
     "metadata": {},
     "output_type": "execute_result"
    }
   ],
   "source": [
    "{Point(0,0)}"
   ]
  },
  {
   "cell_type": "code",
   "execution_count": 6,
   "metadata": {},
   "outputs": [],
   "source": [
    "from itertools import pairwise"
   ]
  },
  {
   "cell_type": "code",
   "execution_count": 7,
   "metadata": {},
   "outputs": [
    {
     "data": {
      "text/plain": [
       "367"
      ]
     },
     "execution_count": 7,
     "metadata": {},
     "output_type": "execute_result"
    }
   ],
   "source": [
    "neighbors_f = (\n",
    "    (\"t\", top),\n",
    "    (\"l\", left),\n",
    "    (\"r\", right),\n",
    "    (\"b\", bottom),\n",
    ")\n",
    "\n",
    "visited = [[False] * n_cols for _ in range(n_rows)]\n",
    "outside = {Point(0, 0)}  # (0, 0) is part of padding - definitely outside\n",
    "\n",
    "to_check = [Point(0, 0)]\n",
    "while to_check:\n",
    "    point = to_check.pop()\n",
    "\n",
    "    for direction, f in neighbors_f:\n",
    "        neighbor = f(point)\n",
    "\n",
    "        if (\n",
    "            neighbor.x < 0\n",
    "            or neighbor.y < 0\n",
    "            or neighbor.x >= n_cols\n",
    "            or neighbor.y >= n_rows\n",
    "            or visited[neighbor.y][neighbor.x]\n",
    "        ):\n",
    "            continue\n",
    "\n",
    "        visited[neighbor.y][neighbor.x] = True\n",
    "\n",
    "        # If a point is a neigbor of a point outside the loop\n",
    "        # and it's not a part of the loop, then it's also outside\n",
    "        if neighbor not in loop:\n",
    "            outside.add(neighbor)\n",
    "            to_check.append(neighbor)\n",
    "        # If we hit a point that is part of the loop, we will\n",
    "        # go along the loop counterclockwise and detect any\n",
    "        # points outside the loop that are directly next to it\n",
    "        else:\n",
    "            if neighbor == loop[-1]:\n",
    "                sliced_loop = loop\n",
    "            else:\n",
    "                idx = loop.index(neighbor)\n",
    "                sliced_loop = loop[idx:] + loop[:idx] + [neighbor]\n",
    "\n",
    "            # Make sure loop is sorted clockwise\n",
    "            next_point = sliced_loop[0]\n",
    "            prev_point = sliced_loop[-2]\n",
    "            if not (\n",
    "                # fmt: off\n",
    "                   direction == \"t\" and (next_point == right(neighbor)  or prev_point == left(neighbor))\n",
    "                or direction == \"l\" and (next_point == top(neighbor)    or prev_point == bottom(neighbor))\n",
    "                or direction == \"r\" and (next_point == bottom(neighbor) or prev_point == top(neighbor))\n",
    "                or direction == \"b\" and (next_point == left(neighbor)   or prev_point == right(neighbor))\n",
    "                # fmt: on\n",
    "            ):\n",
    "                sliced_loop = list(reversed(sliced_loop))\n",
    "            \n",
    "            # Traverse the loop\n",
    "            for prev_point, loop_point in pairwise(sliced_loop):\n",
    "                visited[loop_point.y][loop_point.x] = True\n",
    "\n",
    "                # Figure out the direction\n",
    "                if loop_point.y < prev_point.y:\n",
    "                    loop_direction = \"t\"\n",
    "                elif loop_point.y > prev_point.y:\n",
    "                    loop_direction = \"b\"\n",
    "                elif loop_point.x < prev_point.x:\n",
    "                    loop_direction = \"l\"\n",
    "                elif loop_point.x > prev_point.x:\n",
    "                    loop_direction = \"r\"\n",
    "                else:\n",
    "                    raise Exception()\n",
    "\n",
    "                # Find points to add\n",
    "\n",
    "                char = lookup_sketch(loop_point)\n",
    "                near_loop = []\n",
    "\n",
    "                if loop_direction == \"t\":\n",
    "                    if char == \"7\":\n",
    "                        near_loop.append(top(loop_point))\n",
    "                        near_loop.append(right(loop_point))\n",
    "                    elif char == \"|\":\n",
    "                        near_loop.append(right(loop_point))\n",
    "                    elif char == \"F\":\n",
    "                        pass\n",
    "                    else:\n",
    "                        raise Exception()\n",
    "                \n",
    "                elif loop_direction == \"l\":\n",
    "                    if char == \"L\":\n",
    "                        pass\n",
    "                    elif char == \"-\":\n",
    "                        near_loop.append(top(loop_point))\n",
    "                    elif char == \"F\":\n",
    "                        near_loop.append(top(loop_point))\n",
    "                        near_loop.append(left(loop_point))\n",
    "                    else:\n",
    "                        raise Exception()\n",
    "                \n",
    "                elif loop_direction == \"r\":\n",
    "                    if char == \"J\":\n",
    "                        near_loop.append(right(loop_point))\n",
    "                        near_loop.append(bottom(loop_point))\n",
    "                    elif char == \"-\":\n",
    "                        near_loop.append(bottom(loop_point))\n",
    "                    elif char == \"7\":\n",
    "                        pass\n",
    "                    else:\n",
    "                        raise Exception()\n",
    "\n",
    "                elif loop_direction == \"b\":\n",
    "                    if char == \"J\":\n",
    "                        pass\n",
    "                    elif char == \"|\":\n",
    "                        near_loop.append(left(loop_point))\n",
    "                    elif char == \"L\":\n",
    "                        near_loop.append(left(loop_point))\n",
    "                        near_loop.append(bottom(loop_point))\n",
    "                    else:\n",
    "                        raise Exception()\n",
    "                \n",
    "                else:\n",
    "                    raise Exception()\n",
    "                \n",
    "                for near_loop_point in near_loop:\n",
    "                    if near_loop_point not in loop:\n",
    "                        outside.add(near_loop_point)\n",
    "                        to_check.append(near_loop_point)\n",
    "\n",
    "n_rows * n_cols - (len(outside) +len(loop))"
   ]
  },
  {
   "cell_type": "markdown",
   "metadata": {},
   "source": [
    "## Solution with scikit-image\n",
    "\n",
    "`> python -m pip install -U scikit-image`\n"
   ]
  },
  {
   "cell_type": "code",
   "execution_count": 8,
   "metadata": {},
   "outputs": [],
   "source": [
    "import numpy as np\n",
    "from skimage.draw import polygon"
   ]
  },
  {
   "cell_type": "code",
   "execution_count": 9,
   "metadata": {},
   "outputs": [
    {
     "data": {
      "text/plain": [
       "367"
      ]
     },
     "execution_count": 9,
     "metadata": {},
     "output_type": "execute_result"
    }
   ],
   "source": [
    "vertices = np.array(loop)\n",
    "\n",
    "\n",
    "img = np.zeros((n_cols, n_rows), 'uint8')\n",
    "rr, cc = polygon(vertices[:,1], vertices[:,0], img.shape)\n",
    "img[rr,cc] = 1\n",
    "\n",
    "int(img.sum() - len(loop))"
   ]
  }
 ],
 "metadata": {
  "kernelspec": {
   "display_name": "venv",
   "language": "python",
   "name": "python3"
  },
  "language_info": {
   "codemirror_mode": {
    "name": "ipython",
    "version": 3
   },
   "file_extension": ".py",
   "mimetype": "text/x-python",
   "name": "python",
   "nbconvert_exporter": "python",
   "pygments_lexer": "ipython3",
   "version": "3.11.5"
  }
 },
 "nbformat": 4,
 "nbformat_minor": 2
}
