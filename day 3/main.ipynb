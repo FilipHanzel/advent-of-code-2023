{
 "cells": [
  {
   "cell_type": "code",
   "execution_count": 75,
   "metadata": {},
   "outputs": [],
   "source": [
    "with open(\"input.txt\", \"rt\") as f:\n",
    "    lines = f.read().strip().split(\"\\n\")"
   ]
  },
  {
   "cell_type": "code",
   "execution_count": 76,
   "metadata": {},
   "outputs": [],
   "source": [
    "_neighbors_f = [\n",
    "    lambda x, y: (x,     y + 1),  # top\n",
    "    lambda x, y: (x - 1, y    ),  # left\n",
    "    lambda x, y: (x + 1, y    ),  # right\n",
    "    lambda x, y: (x,     y - 1),  # bottom\n",
    "    lambda x, y: (x - 1, y + 1),  # top-left\n",
    "    lambda x, y: (x + 1, y + 1),  # top-right\n",
    "    lambda x, y: (x - 1, y - 1),  # bottom-left\n",
    "    lambda x, y: (x + 1, y - 1),  # bottom-right\n",
    "]"
   ]
  },
  {
   "cell_type": "markdown",
   "metadata": {},
   "source": [
    "Part 1"
   ]
  },
  {
   "cell_type": "code",
   "execution_count": 77,
   "metadata": {},
   "outputs": [
    {
     "data": {
      "text/plain": [
       "535351"
      ]
     },
     "execution_count": 77,
     "metadata": {},
     "output_type": "execute_result"
    }
   ],
   "source": [
    "parts = []\n",
    "\n",
    "num = \"\"\n",
    "is_part = False\n",
    "\n",
    "for y, line in enumerate(lines):\n",
    "    for x, symbol in enumerate(line):\n",
    "        if symbol.isdigit():\n",
    "            num += symbol\n",
    "\n",
    "            for f in _neighbors_f:\n",
    "                xn, yn = f(x, y)\n",
    "                if xn < 0 or yn < 0 or xn >= len(line) or yn >= len(lines):\n",
    "                    continue\n",
    "\n",
    "                neighbor = lines[yn][xn]\n",
    "\n",
    "                if not neighbor.isdigit() and neighbor != \".\":\n",
    "                    is_part = True\n",
    "\n",
    "        if not symbol.isdigit() or x == len(line) - 1:\n",
    "            if num and is_part:\n",
    "                parts.append(int(num))\n",
    "\n",
    "            num = \"\"\n",
    "            is_part = False\n",
    "\n",
    "sum(parts)"
   ]
  },
  {
   "cell_type": "markdown",
   "metadata": {},
   "source": [
    "Part 2"
   ]
  },
  {
   "cell_type": "code",
   "execution_count": 78,
   "metadata": {},
   "outputs": [
    {
     "name": "stdout",
     "output_type": "stream",
     "text": [
      "87287096\n"
     ]
    }
   ],
   "source": [
    "potential_gears = {}\n",
    "\n",
    "num = \"\"\n",
    "star_coords = None\n",
    "\n",
    "for y, line in enumerate(lines):\n",
    "    for x, symbol in enumerate(line):\n",
    "        if symbol.isdigit():\n",
    "            num += symbol\n",
    "\n",
    "            for f in _neighbors_f:\n",
    "                xn, yn = f(x, y)\n",
    "                if xn < 0 or yn < 0 or xn >= len(line) or yn >= len(lines):\n",
    "                    continue\n",
    "\n",
    "                neighbor = lines[yn][xn]\n",
    "\n",
    "                if neighbor == \"*\":\n",
    "                    star_coords = (xn, yn)\n",
    "\n",
    "        if not symbol.isdigit() or x == len(line) - 1:\n",
    "            if num and star_coords is not None:\n",
    "                if star_coords not in potential_gears:\n",
    "                    potential_gears[star_coords] = []\n",
    "                potential_gears[star_coords].append(int(num))\n",
    "\n",
    "            num = \"\"\n",
    "            star_coords = None\n",
    "\n",
    "\n",
    "gears = {coord: nums for coord, nums in potential_gears.items() if len(nums) == 2}\n",
    "\n",
    "\n",
    "s = 0\n",
    "for n, m in gears.values():\n",
    "    s += n * m\n",
    "\n",
    "print(s)"
   ]
  }
 ],
 "metadata": {
  "kernelspec": {
   "display_name": "venv",
   "language": "python",
   "name": "python3"
  },
  "language_info": {
   "codemirror_mode": {
    "name": "ipython",
    "version": 3
   },
   "file_extension": ".py",
   "mimetype": "text/x-python",
   "name": "python",
   "nbconvert_exporter": "python",
   "pygments_lexer": "ipython3",
   "version": "3.11.5"
  }
 },
 "nbformat": 4,
 "nbformat_minor": 2
}
