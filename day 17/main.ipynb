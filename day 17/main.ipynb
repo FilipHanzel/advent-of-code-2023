{
 "cells": [
  {
   "cell_type": "code",
   "execution_count": 1,
   "metadata": {},
   "outputs": [],
   "source": [
    "from collections import namedtuple\n",
    "from typing import Optional\n",
    "import heapq\n"
   ]
  },
  {
   "cell_type": "code",
   "execution_count": 2,
   "metadata": {},
   "outputs": [],
   "source": [
    "with open(\"input.txt\", \"rt\") as f:\n",
    "    heat_loss_map = []\n",
    "    for row in f.read().strip().split(\"\\n\"):\n",
    "        heat_loss_map.append(list(map(int, row)))\n",
    "\n",
    "n_rows = len(heat_loss_map)\n",
    "n_cols = len(heat_loss_map[0])"
   ]
  },
  {
   "cell_type": "code",
   "execution_count": 3,
   "metadata": {},
   "outputs": [],
   "source": [
    "Point = namedtuple(\"Point\", [\"x\", \"y\"])\n",
    "\n",
    "\n",
    "def top(p: Point) -> Point:\n",
    "    return Point(p.x, p.y - 1)\n",
    "\n",
    "\n",
    "def left(p: Point) -> Point:\n",
    "    return Point(p.x - 1, p.y)\n",
    "\n",
    "\n",
    "def right(p: Point) -> Point:\n",
    "    return Point(p.x + 1, p.y)\n",
    "\n",
    "\n",
    "def bottom(p: Point) -> Point:\n",
    "    return Point(p.x, p.y + 1)\n",
    "\n",
    "\n",
    "def move(p: Point, direction: str) -> Optional[Point]:\n",
    "    if direction == \"t\":\n",
    "        return top(p) if p.y > 0 else None\n",
    "    elif direction == \"l\":\n",
    "        return left(p) if p.x > 0 else None\n",
    "    elif direction == \"r\":\n",
    "        return right(p) if p.x < n_cols - 1 else None\n",
    "    elif direction == \"b\":\n",
    "        return bottom(p) if p.y < n_rows - 1 else None"
   ]
  },
  {
   "cell_type": "markdown",
   "metadata": {},
   "source": [
    "# Part 1"
   ]
  },
  {
   "cell_type": "code",
   "execution_count": 4,
   "metadata": {},
   "outputs": [
    {
     "name": "stdout",
     "output_type": "stream",
     "text": [
      "_cache_hits = 365572\n",
      "_heat_loss_hits = 1393\n"
     ]
    },
    {
     "data": {
      "text/plain": [
       "742"
      ]
     },
     "execution_count": 4,
     "metadata": {},
     "output_type": "execute_result"
    }
   ],
   "source": [
    "final_cost = float(\"inf\")\n",
    "cache = {}\n",
    "paths = [\n",
    "    (\n",
    "        0,  # heat loss it takes to get here\n",
    "        Point(0,0),  # point at which we are now\n",
    "        0,  # number of steps in straight line\n",
    "        \"r\",  # direction from which we came\n",
    "    )\n",
    "]\n",
    "\n",
    "_cache_hits = 0\n",
    "_heat_loss_hits = 0\n",
    "\n",
    "while paths:\n",
    "    heat_loss, position, steps, direction = heapq.heappop(paths)\n",
    "\n",
    "    if heat_loss >= final_cost:\n",
    "        _heat_loss_hits += 1\n",
    "        continue\n",
    "\n",
    "    if position.x == n_cols - 1 and position.y == n_rows - 1:\n",
    "        final_cost = min(heat_loss, final_cost)\n",
    "        continue\n",
    "    \n",
    "    if direction == \"t\":\n",
    "        to_go = \"tlr\"\n",
    "    elif direction == \"l\":\n",
    "        to_go = \"ltb\"\n",
    "    elif direction == \"r\":\n",
    "        to_go = \"rtb\"\n",
    "    elif direction == \"b\":\n",
    "        to_go = \"blr\"\n",
    "\n",
    "    for new_direction in to_go:\n",
    "        new_steps = 0 if direction != new_direction else steps + 1\n",
    "        if new_steps == 3:\n",
    "            continue\n",
    "        \n",
    "        new_position = move(position, new_direction)\n",
    "        if new_position is None:\n",
    "            continue\n",
    "\n",
    "        new_heat_loss = heat_loss + heat_loss_map[new_position.y][new_position.x]\n",
    "\n",
    "        key = (new_position, new_direction, new_steps)\n",
    "        if key in cache and cache[key] <= new_heat_loss:\n",
    "            _cache_hits += 1\n",
    "            continue\n",
    "        cache[key] = new_heat_loss\n",
    "\n",
    "        heapq.heappush(paths, (new_heat_loss, new_position, new_steps, new_direction))\n",
    "\n",
    "print(f\"{_cache_hits = }\")\n",
    "print(f\"{_heat_loss_hits = }\")\n",
    "final_cost"
   ]
  },
  {
   "cell_type": "markdown",
   "metadata": {},
   "source": [
    "# Part 2"
   ]
  },
  {
   "cell_type": "code",
   "execution_count": 5,
   "metadata": {},
   "outputs": [
    {
     "name": "stdout",
     "output_type": "stream",
     "text": [
      "_cache_hits = 2266644\n",
      "_heat_loss_hits = 1279\n"
     ]
    },
    {
     "data": {
      "text/plain": [
       "918"
      ]
     },
     "execution_count": 5,
     "metadata": {},
     "output_type": "execute_result"
    }
   ],
   "source": [
    "final_cost = float(\"inf\")\n",
    "cache = {}\n",
    "paths = [\n",
    "    (\n",
    "        0,  # heat loss it takes to get here\n",
    "        Point(0,0),  # point at which we are now\n",
    "        \"r\",  # direction from which we came\n",
    "    ),\n",
    "]\n",
    "\n",
    "_cache_hits = 0\n",
    "_heat_loss_hits = 0\n",
    "\n",
    "\n",
    "while paths:\n",
    "    heat_loss, position, direction = heapq.heappop(paths)\n",
    "\n",
    "    if heat_loss >= final_cost:\n",
    "        _heat_loss_hits += 1\n",
    "        continue\n",
    "\n",
    "    if position.x == n_cols - 1 and position.y == n_rows - 1:\n",
    "        final_cost = min(heat_loss, final_cost)\n",
    "        continue\n",
    "\n",
    "    new_position = position\n",
    "    new_heat_loss = heat_loss\n",
    "    for step in range(1, 10 + 1):\n",
    "\n",
    "\n",
    "        new_position = move(new_position, direction)\n",
    "        if new_position is None:\n",
    "            break\n",
    "        \n",
    "        new_heat_loss += heat_loss_map[new_position.y][new_position.x]\n",
    "\n",
    "        if step >= 4:\n",
    "            if direction in \"lr\":\n",
    "                to_go = \"tb\"\n",
    "            elif direction in \"tb\":\n",
    "                to_go = \"lr\"\n",
    "            \n",
    "            for new_direction in to_go:\n",
    "                key = (new_direction, new_position)\n",
    "                if key in cache and cache[key] <= new_heat_loss:\n",
    "                    _cache_hits += 1\n",
    "                    continue\n",
    "                cache[key] = new_heat_loss\n",
    "\n",
    "                heapq.heappush(paths, (new_heat_loss, new_position, new_direction))\n",
    "\n",
    "print(f\"{_cache_hits = }\")\n",
    "print(f\"{_heat_loss_hits = }\")\n",
    "final_cost"
   ]
  }
 ],
 "metadata": {
  "kernelspec": {
   "display_name": "venv",
   "language": "python",
   "name": "python3"
  },
  "language_info": {
   "codemirror_mode": {
    "name": "ipython",
    "version": 3
   },
   "file_extension": ".py",
   "mimetype": "text/x-python",
   "name": "python",
   "nbconvert_exporter": "python",
   "pygments_lexer": "ipython3",
   "version": "3.11.5"
  }
 },
 "nbformat": 4,
 "nbformat_minor": 2
}
