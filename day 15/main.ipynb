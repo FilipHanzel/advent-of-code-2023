{
 "cells": [
  {
   "cell_type": "code",
   "execution_count": 1,
   "metadata": {},
   "outputs": [],
   "source": [
    "import re"
   ]
  },
  {
   "cell_type": "code",
   "execution_count": 2,
   "metadata": {},
   "outputs": [],
   "source": [
    "with open(\"input.txt\", \"rt\") as f:\n",
    "    initialization_sequence = f.read().strip().split(\",\")\n"
   ]
  },
  {
   "cell_type": "markdown",
   "metadata": {},
   "source": [
    "# Part 1"
   ]
  },
  {
   "cell_type": "code",
   "execution_count": 3,
   "metadata": {},
   "outputs": [
    {
     "data": {
      "text/plain": [
       "52"
      ]
     },
     "execution_count": 3,
     "metadata": {},
     "output_type": "execute_result"
    }
   ],
   "source": [
    "def hash_algo(string: str) -> int:\n",
    "    current_value = 0\n",
    "    for char in string:\n",
    "        current_value += ord(char)\n",
    "        current_value *= 17\n",
    "        current_value %= 256\n",
    "    return current_value\n",
    "\n",
    "hash_algo(\"HASH\")"
   ]
  },
  {
   "cell_type": "code",
   "execution_count": 4,
   "metadata": {},
   "outputs": [
    {
     "data": {
      "text/plain": [
       "509152"
      ]
     },
     "execution_count": 4,
     "metadata": {},
     "output_type": "execute_result"
    }
   ],
   "source": [
    "s = 0\n",
    "for step in initialization_sequence:\n",
    "    s += hash_algo(step)\n",
    "s"
   ]
  },
  {
   "cell_type": "markdown",
   "metadata": {},
   "source": [
    "# Part 2\n",
    "\n",
    "This will work correctly in python >=3.7, because only since that version dictionaries are guaranteed to be ordered."
   ]
  },
  {
   "cell_type": "code",
   "execution_count": 5,
   "metadata": {},
   "outputs": [
    {
     "data": {
      "text/plain": [
       "244403"
      ]
     },
     "execution_count": 5,
     "metadata": {},
     "output_type": "execute_result"
    }
   ],
   "source": [
    "boxes = {i: {} for i in range(256)}\n",
    "\n",
    "for step in initialization_sequence:\n",
    "    label, op, focal_length = re.search(\"^([a-z]+)(=|-)(\\d?)\", step).groups()\n",
    "    label_hash = hash_algo(label)\n",
    "\n",
    "    if op == \"-\" and label in boxes[label_hash]:\n",
    "        del boxes[label_hash][label]\n",
    "\n",
    "    elif op == \"=\":\n",
    "        boxes[label_hash][label] = focal_length\n",
    "\n",
    "focusing_power = 0\n",
    "for box_idx, box in boxes.items():\n",
    "    box_number = box_idx + 1\n",
    "\n",
    "    for slot_idx, lens in enumerate(box):\n",
    "        slot_number = slot_idx + 1\n",
    "\n",
    "        focal_length = int(box[lens])\n",
    "\n",
    "        focusing_power += box_number * slot_number * focal_length\n",
    "\n",
    "focusing_power"
   ]
  }
 ],
 "metadata": {
  "kernelspec": {
   "display_name": "venv",
   "language": "python",
   "name": "python3"
  },
  "language_info": {
   "codemirror_mode": {
    "name": "ipython",
    "version": 3
   },
   "file_extension": ".py",
   "mimetype": "text/x-python",
   "name": "python",
   "nbconvert_exporter": "python",
   "pygments_lexer": "ipython3",
   "version": "3.11.5"
  }
 },
 "nbformat": 4,
 "nbformat_minor": 2
}
